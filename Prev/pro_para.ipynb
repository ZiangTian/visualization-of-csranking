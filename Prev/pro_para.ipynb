{
 "cells": [
  {
   "cell_type": "code",
   "execution_count": 1,
   "metadata": {},
   "outputs": [],
   "source": [
    "import pandas as pd\n",
    "import requests\n",
    "from bs4 import BeautifulSoup\n",
    "from scholarly import scholarly\n",
    "import numpy as np\n",
    "import concurrent.futures"
   ]
  },
  {
   "cell_type": "code",
   "execution_count": 2,
   "metadata": {},
   "outputs": [],
   "source": [
    "\n",
    "# Read the CSV file\n",
    "df = pd.read_csv('csrankings.csv')\n",
    "\n",
    "# Define keywords for each field\n",
    "system_keywords = ['system', 'architecture', 'hardware']\n",
    "ai_keywords = ['artificial intelligence', 'machine learning', 'deep learning', 'computer vision']\n",
    "theory_keywords = ['theory', 'algorithm', 'computational complexity']\n",
    "interdisciplinary_keywords = ['interdisciplinary', 'cross-disciplinary', 'multi-disciplinary']\n",
    "\n",
    "# Create columns for each field\n",
    "df['System'] = False\n",
    "df['AI'] = False\n",
    "df['Theory'] = False\n",
    "df['Interdisciplinary'] = False\n",
    "df['Citations'] = 0\n"
   ]
  },
  {
   "cell_type": "code",
   "execution_count": 3,
   "metadata": {},
   "outputs": [],
   "source": [
    "def check_keywords(url, keywords):\n",
    "    try:\n",
    "        response = requests.get(url)\n",
    "        soup = BeautifulSoup(response.text, 'html.parser')\n",
    "        interests = soup.find('div', class_='interests').text  # Replace with the actual HTML structure\n",
    "        return any(keyword in interests.lower() for keyword in keywords)\n",
    "    except Exception as e:\n",
    "        print(f\"Error accessing {url}: {e}\")\n",
    "        return False\n",
    "\n",
    "def search_google_scholar(author_id, author_name):\n",
    "    try:\n",
    "        if author_id != 'NOSCHOLARPAGE':\n",
    "            author = scholarly.search_author_id(author_id)\n",
    "        else:\n",
    "            search_query = scholarly.search_author(author_name)\n",
    "            author = next(search_query)\n",
    "        return author\n",
    "    except Exception as e:\n",
    "        print(f\"Exception for author with ID {author_id}: {e}\")\n",
    "        return None\n",
    "\n",
    "def process_chunk(chunk):\n",
    "    for index, row in chunk.iterrows():\n",
    "        author_id = str(row['scholarid'])  # Replace 'GoogleScholarID' with the actual column name\n",
    "        author_name = str(row['name'])  # Replace 'AuthorName' with the actual column name\n",
    "        author_info = search_google_scholar(author_id, author_name)\n",
    "\n",
    "        if author_info:\n",
    "            chunk.at[index, 'Citations'] = author_info.get('citedby', 0)\n",
    "\n",
    "            interests = author_info.get('interests', [])\n",
    "            chunk.at[index, 'System'] = any(keyword in interests for keyword in system_keywords)\n",
    "            chunk.at[index, 'AI'] = any(keyword in interests for keyword in ai_keywords)\n",
    "            chunk.at[index, 'Theory'] = any(keyword in interests for keyword in theory_keywords)\n",
    "            chunk.at[index, 'Interdisciplinary'] = any(keyword in interests for keyword in interdisciplinary_keywords)\n",
    "\n",
    "    return chunk"
   ]
  },
  {
   "cell_type": "code",
   "execution_count": 4,
   "metadata": {},
   "outputs": [],
   "source": [
    "chunks = np.array_split(df, len(df) // 2000 + 1)"
   ]
  },
  {
   "cell_type": "code",
   "execution_count": null,
   "metadata": {},
   "outputs": [],
   "source": [
    "\n",
    "with concurrent.futures.ThreadPoolExecutor() as executor:\n",
    "    # Submit the processing function for each chunk\n",
    "    futures = [executor.submit(process_chunk, chunk) for chunk in chunks]\n",
    "\n",
    "    # Wait for all threads to finish\n",
    "    concurrent.futures.wait(futures)\n",
    "\n",
    "# Get the results from the completed threads\n",
    "processed_chunks = [future.result() for future in futures]\n",
    "\n",
    "# Concatenate the processed chunks back into a single DataFrame\n",
    "df_processed = pd.concat(processed_chunks, ignore_index=True)\n",
    "\n",
    "# Save the updated DataFrame to a new CSV file\n",
    "df_processed.to_csv('./results/tagged_faculty_data_processed.csv', index=False)\n"
   ]
  },
  {
   "cell_type": "code",
   "execution_count": 11,
   "metadata": {},
   "outputs": [],
   "source": [
    "from fake_useragent import UserAgent\n",
    "import requests\n",
    "from bs4 import BeautifulSoup"
   ]
  },
  {
   "cell_type": "code",
   "execution_count": 6,
   "metadata": {},
   "outputs": [],
   "source": [
    "user_agent = UserAgent()\n",
    "headers = {'User-Agent': user_agent.random}\n",
    "url = f'https://scholar.google.com/citations?hl=en&user={\"dEiLfCQAAAAJ\"}'\n",
    "response = requests.get(url, headers=headers)"
   ]
  },
  {
   "cell_type": "code",
   "execution_count": 8,
   "metadata": {},
   "outputs": [
    {
     "name": "stdout",
     "output_type": "stream",
     "text": [
      "b'<!DOCTYPE html PUBLIC \"-//W3C//DTD HTML 4.01 Transitional//EN\">\\n<html>\\n<head><meta http-equiv=\"content-type\" content=\"text/html; charset=utf-8\"><meta name=\"viewport\" content=\"initial-scale=1\"><title>https://scholar.google.com/citations?hl=en&amp;user=dEiLfCQAAAAJ</title></head>\\n<body style=\"font-family: arial, sans-serif; background-color: #fff; color: #000; padding:20px; font-size:18px; overscroll-behavior:contain;\" onload=\"e=document.getElementById(\\'captcha\\');if(e){e.focus();} if(solveSimpleChallenge) {solveSimpleChallenge(,);}\">\\n<div style=\"max-width:400px;\">\\n<hr noshade size=\"1\" style=\"color:#ccc; background-color:#ccc;\"><br>\\n<div style=\"font-size:13px;\">\\nOur systems have detected unusual traffic from your computer network.  Please try your request again later.  <a href=\"#\" onclick=\"document.getElementById(\\'infoDiv0\\').style.display=\\'block\\';\">Why did this happen?</a><br><br>\\n<div id=\"infoDiv0\" style=\"display:none; background-color:#eee; padding:10px; margin:0 0 15px 0; line-height:1.4em;\">\\nThis page appears when Google automatically detects requests coming from your computer network which appear to be in violation of the <a href=\"//www.google.com/policies/terms/\">Terms of Service</a>. The block will expire shortly after those requests stop.<br><br>This traffic may have been sent by malicious software, a browser plug-in, or a script that sends automated requests.  If you share your network connection, ask your administrator for help &mdash; a different computer using the same IP address may be responsible.  <a href=\"//support.google.com/websearch/answer/86640\">Learn more</a><br><br>Sometimes you may see this page if you are using advanced terms that robots are known to use, or sending requests very quickly.\\n</div><br>\\n\\nIP address: 134.195.101.83<br>Time: 2023-12-08T04:08:00Z<br>URL: https://scholar.google.com/citations?hl=en&amp;user=dEiLfCQAAAAJ<br>\\n</div>\\n</div>\\n</body>\\n</html>\\n'\n"
     ]
    }
   ],
   "source": [
    "print(response.content)"
   ]
  },
  {
   "cell_type": "code",
   "execution_count": 12,
   "metadata": {},
   "outputs": [],
   "source": [
    "soup = BeautifulSoup(response.content, 'html.parser')"
   ]
  },
  {
   "cell_type": "code",
   "execution_count": 13,
   "metadata": {},
   "outputs": [],
   "source": [
    "cited_by_element = soup.find('div', {'id': 'gsc_prf_pua'})\n",
    "cited_by = int(cited_by_element.text.strip()) if cited_by_element else 0"
   ]
  },
  {
   "cell_type": "code",
   "execution_count": 16,
   "metadata": {},
   "outputs": [
    {
     "name": "stdout",
     "output_type": "stream",
     "text": [
      "<!DOCTYPE html PUBLIC \"-//W3C//DTD HTML 4.01 Transitional//EN\">\n",
      "\n",
      "<html>\n",
      "<head><meta content=\"text/html; charset=utf-8\" http-equiv=\"content-type\"/><meta content=\"initial-scale=1\" name=\"viewport\"/><title>https://scholar.google.com/citations?hl=en&amp;user=dEiLfCQAAAAJ</title></head>\n",
      "<body onload=\"e=document.getElementById('captcha');if(e){e.focus();} if(solveSimpleChallenge) {solveSimpleChallenge(,);}\" style=\"font-family: arial, sans-serif; background-color: #fff; color: #000; padding:20px; font-size:18px; overscroll-behavior:contain;\">\n",
      "<div style=\"max-width:400px;\">\n",
      "<hr noshade=\"\" size=\"1\" style=\"color:#ccc; background-color:#ccc;\"/><br/>\n",
      "<div style=\"font-size:13px;\">\n",
      "Our systems have detected unusual traffic from your computer network.  Please try your request again later.  <a href=\"#\" onclick=\"document.getElementById('infoDiv0').style.display='block';\">Why did this happen?</a><br/><br/>\n",
      "<div id=\"infoDiv0\" style=\"display:none; background-color:#eee; padding:10px; margin:0 0 15px 0; line-height:1.4em;\">\n",
      "This page appears when Google automatically detects requests coming from your computer network which appear to be in violation of the <a href=\"//www.google.com/policies/terms/\">Terms of Service</a>. The block will expire shortly after those requests stop.<br/><br/>This traffic may have been sent by malicious software, a browser plug-in, or a script that sends automated requests.  If you share your network connection, ask your administrator for help — a different computer using the same IP address may be responsible.  <a href=\"//support.google.com/websearch/answer/86640\">Learn more</a><br/><br/>Sometimes you may see this page if you are using advanced terms that robots are known to use, or sending requests very quickly.\n",
      "</div><br/>\n",
      "\n",
      "IP address: 134.195.101.83<br/>Time: 2023-12-08T04:08:00Z<br/>URL: https://scholar.google.com/citations?hl=en&amp;user=dEiLfCQAAAAJ<br/>\n",
      "</div>\n",
      "</div>\n",
      "</body>\n",
      "</html>\n",
      "\n"
     ]
    }
   ],
   "source": [
    "print (soup)"
   ]
  }
 ],
 "metadata": {
  "kernelspec": {
   "display_name": "nlp",
   "language": "python",
   "name": "python3"
  },
  "language_info": {
   "codemirror_mode": {
    "name": "ipython",
    "version": 3
   },
   "file_extension": ".py",
   "mimetype": "text/x-python",
   "name": "python",
   "nbconvert_exporter": "python",
   "pygments_lexer": "ipython3",
   "version": "3.10.10"
  }
 },
 "nbformat": 4,
 "nbformat_minor": 2
}
