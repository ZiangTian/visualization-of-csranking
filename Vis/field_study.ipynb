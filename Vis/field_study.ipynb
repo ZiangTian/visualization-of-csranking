{
 "cells": [
  {
   "cell_type": "markdown",
   "metadata": {},
   "source": [
    "# Visualize what fields are most studied in a given region"
   ]
  },
  {
   "cell_type": "markdown",
   "metadata": {},
   "source": [
    "## Bubble Map Paradigm"
   ]
  },
  {
   "cell_type": "code",
   "execution_count": 4,
   "metadata": {},
   "outputs": [
    {
     "data": {
      "application/vnd.plotly.v1+json": {
       "config": {
        "plotlyServerURL": "https://plot.ly"
       },
       "data": [
        {
         "hovertemplate": "<b>%{hovertext}</b><br><br>Field=AI<br>Aggregated Faculty Count=%{marker.size}<br>Aggregated Publication Count=%{y}<extra></extra>",
         "hovertext": [
          "AI"
         ],
         "legendgroup": "AI",
         "marker": {
          "color": "#636efa",
          "size": [
           220
          ],
          "sizemode": "area",
          "sizeref": 0.088,
          "symbol": "circle"
         },
         "mode": "markers",
         "name": "AI",
         "orientation": "v",
         "showlegend": true,
         "type": "scatter",
         "x": [
          220
         ],
         "xaxis": "x",
         "y": [
          110
         ],
         "yaxis": "y"
        },
        {
         "hovertemplate": "<b>%{hovertext}</b><br><br>Field=Network<br>Aggregated Faculty Count=%{marker.size}<br>Aggregated Publication Count=%{y}<extra></extra>",
         "hovertext": [
          "Network"
         ],
         "legendgroup": "Network",
         "marker": {
          "color": "#EF553B",
          "size": [
           170
          ],
          "sizemode": "area",
          "sizeref": 0.088,
          "symbol": "circle"
         },
         "mode": "markers",
         "name": "Network",
         "orientation": "v",
         "showlegend": true,
         "type": "scatter",
         "x": [
          170
         ],
         "xaxis": "x",
         "y": [
          70
         ],
         "yaxis": "y"
        },
        {
         "hovertemplate": "<b>%{hovertext}</b><br><br>Field=Systems<br>Aggregated Faculty Count=%{marker.size}<br>Aggregated Publication Count=%{y}<extra></extra>",
         "hovertext": [
          "Systems"
         ],
         "legendgroup": "Systems",
         "marker": {
          "color": "#00cc96",
          "size": [
           150
          ],
          "sizemode": "area",
          "sizeref": 0.088,
          "symbol": "circle"
         },
         "mode": "markers",
         "name": "Systems",
         "orientation": "v",
         "showlegend": true,
         "type": "scatter",
         "x": [
          150
         ],
         "xaxis": "x",
         "y": [
          80
         ],
         "yaxis": "y"
        }
       ],
       "layout": {
        "legend": {
         "itemsizing": "constant",
         "title": {
          "text": "Field"
         },
         "tracegroupgap": 0
        },
        "template": {
         "data": {
          "bar": [
           {
            "error_x": {
             "color": "#f2f5fa"
            },
            "error_y": {
             "color": "#f2f5fa"
            },
            "marker": {
             "line": {
              "color": "rgb(17,17,17)",
              "width": 0.5
             },
             "pattern": {
              "fillmode": "overlay",
              "size": 10,
              "solidity": 0.2
             }
            },
            "type": "bar"
           }
          ],
          "barpolar": [
           {
            "marker": {
             "line": {
              "color": "rgb(17,17,17)",
              "width": 0.5
             },
             "pattern": {
              "fillmode": "overlay",
              "size": 10,
              "solidity": 0.2
             }
            },
            "type": "barpolar"
           }
          ],
          "carpet": [
           {
            "aaxis": {
             "endlinecolor": "#A2B1C6",
             "gridcolor": "#506784",
             "linecolor": "#506784",
             "minorgridcolor": "#506784",
             "startlinecolor": "#A2B1C6"
            },
            "baxis": {
             "endlinecolor": "#A2B1C6",
             "gridcolor": "#506784",
             "linecolor": "#506784",
             "minorgridcolor": "#506784",
             "startlinecolor": "#A2B1C6"
            },
            "type": "carpet"
           }
          ],
          "choropleth": [
           {
            "colorbar": {
             "outlinewidth": 0,
             "ticks": ""
            },
            "type": "choropleth"
           }
          ],
          "contour": [
           {
            "colorbar": {
             "outlinewidth": 0,
             "ticks": ""
            },
            "colorscale": [
             [
              0,
              "#0d0887"
             ],
             [
              0.1111111111111111,
              "#46039f"
             ],
             [
              0.2222222222222222,
              "#7201a8"
             ],
             [
              0.3333333333333333,
              "#9c179e"
             ],
             [
              0.4444444444444444,
              "#bd3786"
             ],
             [
              0.5555555555555556,
              "#d8576b"
             ],
             [
              0.6666666666666666,
              "#ed7953"
             ],
             [
              0.7777777777777778,
              "#fb9f3a"
             ],
             [
              0.8888888888888888,
              "#fdca26"
             ],
             [
              1,
              "#f0f921"
             ]
            ],
            "type": "contour"
           }
          ],
          "contourcarpet": [
           {
            "colorbar": {
             "outlinewidth": 0,
             "ticks": ""
            },
            "type": "contourcarpet"
           }
          ],
          "heatmap": [
           {
            "colorbar": {
             "outlinewidth": 0,
             "ticks": ""
            },
            "colorscale": [
             [
              0,
              "#0d0887"
             ],
             [
              0.1111111111111111,
              "#46039f"
             ],
             [
              0.2222222222222222,
              "#7201a8"
             ],
             [
              0.3333333333333333,
              "#9c179e"
             ],
             [
              0.4444444444444444,
              "#bd3786"
             ],
             [
              0.5555555555555556,
              "#d8576b"
             ],
             [
              0.6666666666666666,
              "#ed7953"
             ],
             [
              0.7777777777777778,
              "#fb9f3a"
             ],
             [
              0.8888888888888888,
              "#fdca26"
             ],
             [
              1,
              "#f0f921"
             ]
            ],
            "type": "heatmap"
           }
          ],
          "heatmapgl": [
           {
            "colorbar": {
             "outlinewidth": 0,
             "ticks": ""
            },
            "colorscale": [
             [
              0,
              "#0d0887"
             ],
             [
              0.1111111111111111,
              "#46039f"
             ],
             [
              0.2222222222222222,
              "#7201a8"
             ],
             [
              0.3333333333333333,
              "#9c179e"
             ],
             [
              0.4444444444444444,
              "#bd3786"
             ],
             [
              0.5555555555555556,
              "#d8576b"
             ],
             [
              0.6666666666666666,
              "#ed7953"
             ],
             [
              0.7777777777777778,
              "#fb9f3a"
             ],
             [
              0.8888888888888888,
              "#fdca26"
             ],
             [
              1,
              "#f0f921"
             ]
            ],
            "type": "heatmapgl"
           }
          ],
          "histogram": [
           {
            "marker": {
             "pattern": {
              "fillmode": "overlay",
              "size": 10,
              "solidity": 0.2
             }
            },
            "type": "histogram"
           }
          ],
          "histogram2d": [
           {
            "colorbar": {
             "outlinewidth": 0,
             "ticks": ""
            },
            "colorscale": [
             [
              0,
              "#0d0887"
             ],
             [
              0.1111111111111111,
              "#46039f"
             ],
             [
              0.2222222222222222,
              "#7201a8"
             ],
             [
              0.3333333333333333,
              "#9c179e"
             ],
             [
              0.4444444444444444,
              "#bd3786"
             ],
             [
              0.5555555555555556,
              "#d8576b"
             ],
             [
              0.6666666666666666,
              "#ed7953"
             ],
             [
              0.7777777777777778,
              "#fb9f3a"
             ],
             [
              0.8888888888888888,
              "#fdca26"
             ],
             [
              1,
              "#f0f921"
             ]
            ],
            "type": "histogram2d"
           }
          ],
          "histogram2dcontour": [
           {
            "colorbar": {
             "outlinewidth": 0,
             "ticks": ""
            },
            "colorscale": [
             [
              0,
              "#0d0887"
             ],
             [
              0.1111111111111111,
              "#46039f"
             ],
             [
              0.2222222222222222,
              "#7201a8"
             ],
             [
              0.3333333333333333,
              "#9c179e"
             ],
             [
              0.4444444444444444,
              "#bd3786"
             ],
             [
              0.5555555555555556,
              "#d8576b"
             ],
             [
              0.6666666666666666,
              "#ed7953"
             ],
             [
              0.7777777777777778,
              "#fb9f3a"
             ],
             [
              0.8888888888888888,
              "#fdca26"
             ],
             [
              1,
              "#f0f921"
             ]
            ],
            "type": "histogram2dcontour"
           }
          ],
          "mesh3d": [
           {
            "colorbar": {
             "outlinewidth": 0,
             "ticks": ""
            },
            "type": "mesh3d"
           }
          ],
          "parcoords": [
           {
            "line": {
             "colorbar": {
              "outlinewidth": 0,
              "ticks": ""
             }
            },
            "type": "parcoords"
           }
          ],
          "pie": [
           {
            "automargin": true,
            "type": "pie"
           }
          ],
          "scatter": [
           {
            "marker": {
             "line": {
              "color": "#283442"
             }
            },
            "type": "scatter"
           }
          ],
          "scatter3d": [
           {
            "line": {
             "colorbar": {
              "outlinewidth": 0,
              "ticks": ""
             }
            },
            "marker": {
             "colorbar": {
              "outlinewidth": 0,
              "ticks": ""
             }
            },
            "type": "scatter3d"
           }
          ],
          "scattercarpet": [
           {
            "marker": {
             "colorbar": {
              "outlinewidth": 0,
              "ticks": ""
             }
            },
            "type": "scattercarpet"
           }
          ],
          "scattergeo": [
           {
            "marker": {
             "colorbar": {
              "outlinewidth": 0,
              "ticks": ""
             }
            },
            "type": "scattergeo"
           }
          ],
          "scattergl": [
           {
            "marker": {
             "line": {
              "color": "#283442"
             }
            },
            "type": "scattergl"
           }
          ],
          "scattermapbox": [
           {
            "marker": {
             "colorbar": {
              "outlinewidth": 0,
              "ticks": ""
             }
            },
            "type": "scattermapbox"
           }
          ],
          "scatterpolar": [
           {
            "marker": {
             "colorbar": {
              "outlinewidth": 0,
              "ticks": ""
             }
            },
            "type": "scatterpolar"
           }
          ],
          "scatterpolargl": [
           {
            "marker": {
             "colorbar": {
              "outlinewidth": 0,
              "ticks": ""
             }
            },
            "type": "scatterpolargl"
           }
          ],
          "scatterternary": [
           {
            "marker": {
             "colorbar": {
              "outlinewidth": 0,
              "ticks": ""
             }
            },
            "type": "scatterternary"
           }
          ],
          "surface": [
           {
            "colorbar": {
             "outlinewidth": 0,
             "ticks": ""
            },
            "colorscale": [
             [
              0,
              "#0d0887"
             ],
             [
              0.1111111111111111,
              "#46039f"
             ],
             [
              0.2222222222222222,
              "#7201a8"
             ],
             [
              0.3333333333333333,
              "#9c179e"
             ],
             [
              0.4444444444444444,
              "#bd3786"
             ],
             [
              0.5555555555555556,
              "#d8576b"
             ],
             [
              0.6666666666666666,
              "#ed7953"
             ],
             [
              0.7777777777777778,
              "#fb9f3a"
             ],
             [
              0.8888888888888888,
              "#fdca26"
             ],
             [
              1,
              "#f0f921"
             ]
            ],
            "type": "surface"
           }
          ],
          "table": [
           {
            "cells": {
             "fill": {
              "color": "#506784"
             },
             "line": {
              "color": "rgb(17,17,17)"
             }
            },
            "header": {
             "fill": {
              "color": "#2a3f5f"
             },
             "line": {
              "color": "rgb(17,17,17)"
             }
            },
            "type": "table"
           }
          ]
         },
         "layout": {
          "annotationdefaults": {
           "arrowcolor": "#f2f5fa",
           "arrowhead": 0,
           "arrowwidth": 1
          },
          "autotypenumbers": "strict",
          "coloraxis": {
           "colorbar": {
            "outlinewidth": 0,
            "ticks": ""
           }
          },
          "colorscale": {
           "diverging": [
            [
             0,
             "#8e0152"
            ],
            [
             0.1,
             "#c51b7d"
            ],
            [
             0.2,
             "#de77ae"
            ],
            [
             0.3,
             "#f1b6da"
            ],
            [
             0.4,
             "#fde0ef"
            ],
            [
             0.5,
             "#f7f7f7"
            ],
            [
             0.6,
             "#e6f5d0"
            ],
            [
             0.7,
             "#b8e186"
            ],
            [
             0.8,
             "#7fbc41"
            ],
            [
             0.9,
             "#4d9221"
            ],
            [
             1,
             "#276419"
            ]
           ],
           "sequential": [
            [
             0,
             "#0d0887"
            ],
            [
             0.1111111111111111,
             "#46039f"
            ],
            [
             0.2222222222222222,
             "#7201a8"
            ],
            [
             0.3333333333333333,
             "#9c179e"
            ],
            [
             0.4444444444444444,
             "#bd3786"
            ],
            [
             0.5555555555555556,
             "#d8576b"
            ],
            [
             0.6666666666666666,
             "#ed7953"
            ],
            [
             0.7777777777777778,
             "#fb9f3a"
            ],
            [
             0.8888888888888888,
             "#fdca26"
            ],
            [
             1,
             "#f0f921"
            ]
           ],
           "sequentialminus": [
            [
             0,
             "#0d0887"
            ],
            [
             0.1111111111111111,
             "#46039f"
            ],
            [
             0.2222222222222222,
             "#7201a8"
            ],
            [
             0.3333333333333333,
             "#9c179e"
            ],
            [
             0.4444444444444444,
             "#bd3786"
            ],
            [
             0.5555555555555556,
             "#d8576b"
            ],
            [
             0.6666666666666666,
             "#ed7953"
            ],
            [
             0.7777777777777778,
             "#fb9f3a"
            ],
            [
             0.8888888888888888,
             "#fdca26"
            ],
            [
             1,
             "#f0f921"
            ]
           ]
          },
          "colorway": [
           "#636efa",
           "#EF553B",
           "#00cc96",
           "#ab63fa",
           "#FFA15A",
           "#19d3f3",
           "#FF6692",
           "#B6E880",
           "#FF97FF",
           "#FECB52"
          ],
          "font": {
           "color": "#f2f5fa"
          },
          "geo": {
           "bgcolor": "rgb(17,17,17)",
           "lakecolor": "rgb(17,17,17)",
           "landcolor": "rgb(17,17,17)",
           "showlakes": true,
           "showland": true,
           "subunitcolor": "#506784"
          },
          "hoverlabel": {
           "align": "left"
          },
          "hovermode": "closest",
          "mapbox": {
           "style": "dark"
          },
          "paper_bgcolor": "rgb(17,17,17)",
          "plot_bgcolor": "rgb(17,17,17)",
          "polar": {
           "angularaxis": {
            "gridcolor": "#506784",
            "linecolor": "#506784",
            "ticks": ""
           },
           "bgcolor": "rgb(17,17,17)",
           "radialaxis": {
            "gridcolor": "#506784",
            "linecolor": "#506784",
            "ticks": ""
           }
          },
          "scene": {
           "xaxis": {
            "backgroundcolor": "rgb(17,17,17)",
            "gridcolor": "#506784",
            "gridwidth": 2,
            "linecolor": "#506784",
            "showbackground": true,
            "ticks": "",
            "zerolinecolor": "#C8D4E3"
           },
           "yaxis": {
            "backgroundcolor": "rgb(17,17,17)",
            "gridcolor": "#506784",
            "gridwidth": 2,
            "linecolor": "#506784",
            "showbackground": true,
            "ticks": "",
            "zerolinecolor": "#C8D4E3"
           },
           "zaxis": {
            "backgroundcolor": "rgb(17,17,17)",
            "gridcolor": "#506784",
            "gridwidth": 2,
            "linecolor": "#506784",
            "showbackground": true,
            "ticks": "",
            "zerolinecolor": "#C8D4E3"
           }
          },
          "shapedefaults": {
           "line": {
            "color": "#f2f5fa"
           }
          },
          "sliderdefaults": {
           "bgcolor": "#C8D4E3",
           "bordercolor": "rgb(17,17,17)",
           "borderwidth": 1,
           "tickwidth": 0
          },
          "ternary": {
           "aaxis": {
            "gridcolor": "#506784",
            "linecolor": "#506784",
            "ticks": ""
           },
           "baxis": {
            "gridcolor": "#506784",
            "linecolor": "#506784",
            "ticks": ""
           },
           "bgcolor": "rgb(17,17,17)",
           "caxis": {
            "gridcolor": "#506784",
            "linecolor": "#506784",
            "ticks": ""
           }
          },
          "title": {
           "x": 0.05
          },
          "updatemenudefaults": {
           "bgcolor": "#506784",
           "borderwidth": 0
          },
          "xaxis": {
           "automargin": true,
           "gridcolor": "#283442",
           "linecolor": "#506784",
           "ticks": "",
           "title": {
            "standoff": 15
           },
           "zerolinecolor": "#283442",
           "zerolinewidth": 2
          },
          "yaxis": {
           "automargin": true,
           "gridcolor": "#283442",
           "linecolor": "#506784",
           "ticks": "",
           "title": {
            "standoff": 15
           },
           "zerolinecolor": "#283442",
           "zerolinewidth": 2
          }
         }
        },
        "title": {
         "text": "Popularity of Fields in the Region (Aggregated)"
        },
        "xaxis": {
         "anchor": "y",
         "domain": [
          0,
          1
         ],
         "title": {
          "text": "Aggregated Faculty Count"
         }
        },
        "yaxis": {
         "anchor": "x",
         "domain": [
          0,
          1
         ],
         "title": {
          "text": "Aggregated Publication Count"
         }
        }
       }
      }
     },
     "metadata": {},
     "output_type": "display_data"
    }
   ],
   "source": [
    "import plotly.express as px\n",
    "import pandas as pd\n",
    "\n",
    "# Sample data with university name, faculty count, publication count, and field\n",
    "data = {\n",
    "    'University': ['University A', 'University B', 'University C', 'University D', 'University E'],\n",
    "    'FacultyCount': [100, 150, 80, 120, 90],\n",
    "    'PublicationCount': [50, 80, 30, 60, 40],\n",
    "    'Field': ['AI', 'Systems', 'Network', 'AI', 'Network']\n",
    "}\n",
    "\n",
    "df = pd.DataFrame(data)\n",
    "\n",
    "# Aggregate faculty count and publication count for each field in the region\n",
    "agg_df = df.groupby('Field').agg({'FacultyCount': 'sum', 'PublicationCount': 'sum'}).reset_index()\n",
    "\n",
    "# Create a bubble chart using Plotly Express\n",
    "fig = px.scatter(agg_df, x='FacultyCount', y='PublicationCount', size='FacultyCount', color='Field',\n",
    "                 hover_name='Field', title='Popularity of Fields in the Region (Aggregated)',\n",
    "                 labels={'FacultyCount': 'Aggregated Faculty Count', 'PublicationCount': 'Aggregated Publication Count'},\n",
    "                 size_max=50, template='plotly_dark')\n",
    "\n",
    "# Show the plot\n",
    "fig.show()\n"
   ]
  },
  {
   "cell_type": "markdown",
   "metadata": {},
   "source": [
    "## Get Dependencies"
   ]
  },
  {
   "cell_type": "code",
   "execution_count": 1,
   "metadata": {},
   "outputs": [],
   "source": [
    "import dash\n",
    "from dash import dcc, html\n",
    "from dash.dependencies import Input, Output\n",
    "import plotly.express as px\n",
    "import pandas as pd\n",
    "import numpy as np\n",
    "import glob\n",
    "from utils import get_region_and_field"
   ]
  },
  {
   "cell_type": "markdown",
   "metadata": {},
   "source": [
    "## Get Data and Visualize"
   ]
  },
  {
   "cell_type": "code",
   "execution_count": 47,
   "metadata": {},
   "outputs": [
    {
     "data": {
      "application/vnd.plotly.v1+json": {
       "config": {
        "plotlyServerURL": "https://plot.ly"
       },
       "data": [
        {
         "hovertemplate": "Field=%{x}<br>Region=%{y}<br>Total Publication Count=%{marker.size}<br>Total Faculty Count=%{marker.color}<extra></extra>",
         "legendgroup": "",
         "marker": {
          "color": [
           1458,
           175,
           281,
           156,
           100,
           129,
           86,
           596,
           86,
           916,
           187,
           268,
           13,
           37,
           6,
           10,
           3,
           4,
           143,
           18,
           117,
           32,
           347,
           27,
           59,
           19,
           12,
           15,
           17,
           214,
           20,
           206,
           82,
           793,
           123,
           140,
           79,
           100,
           91,
           62,
           482,
           173,
           596,
           417,
           1419,
           331,
           323,
           193,
           203,
           260,
           204,
           596,
           243,
           1211,
           427,
           1827,
           351,
           388,
           239,
           227,
           289,
           242,
           1202,
           278,
           1410,
           524
          ],
          "coloraxis": "coloraxis",
          "size": [
           899.1000000000001,
           147.2,
           399.20000000000005,
           117.39999999999999,
           70.4,
           89.79999999999998,
           66.4,
           106.79999999999998,
           99.10000000000001,
           101.40000000000003,
           98.69999999999999,
           111.09999999999998,
           9.899999999999999,
           77.69999999999999,
           5.7,
           11.4,
           4.2,
           6,
           31.2,
           13.100000000000001,
           24.4,
           16.400000000000002,
           147.7,
           38.49999999999999,
           87.8,
           16.3,
           9.2,
           10.299999999999999,
           12.399999999999999,
           66.69999999999999,
           27.3,
           37.8,
           53.00000000000001,
           402.20000000000005,
           129.8,
           273.79999999999995,
           98.4,
           95.9,
           80.8,
           50.8,
           109.39999999999999,
           205.80000000000004,
           83.2,
           228.70000000000002,
           844.5000000000002,
           472.20000000000005,
           430.29999999999995,
           221.69999999999993,
           194.5,
           288.19999999999993,
           159.7,
           106.79999999999998,
           272.69999999999993,
           196.29999999999995,
           294.69999999999993,
           1224.6000000000001,
           524.1,
           685.1999999999999,
           267.59999999999997,
           206.70000000000005,
           313.40000000000003,
           190.3,
           263.70000000000005,
           343.79999999999995,
           222.69999999999996,
           374.7
          ],
          "sizemode": "area",
          "sizeref": 3.0615000000000006,
          "symbol": "circle"
         },
         "mode": "markers",
         "name": "",
         "orientation": "v",
         "showlegend": false,
         "type": "scatter",
         "x": [
          "ai",
          "arch",
          "database",
          "hpc",
          "metr",
          "network",
          "os",
          "oth",
          "proglan",
          "sys",
          "the",
          "ai",
          "arch",
          "database",
          "hpc",
          "metr",
          "network",
          "os",
          "oth",
          "proglan",
          "sys",
          "the",
          "ai",
          "arch",
          "database",
          "hpc",
          "metr",
          "network",
          "os",
          "oth",
          "proglan",
          "sys",
          "the",
          "ai",
          "arch",
          "database",
          "hpc",
          "metr",
          "network",
          "os",
          "oth",
          "proglan",
          "sys",
          "the",
          "ai",
          "arch",
          "database",
          "hpc",
          "metr",
          "network",
          "os",
          "oth",
          "proglan",
          "sys",
          "the",
          "ai",
          "arch",
          "database",
          "hpc",
          "metr",
          "network",
          "os",
          "oth",
          "proglan",
          "sys",
          "the"
         ],
         "xaxis": "x",
         "y": [
          "ASI",
          "ASI",
          "ASI",
          "ASI",
          "ASI",
          "ASI",
          "ASI",
          "ASI",
          "ASI",
          "ASI",
          "ASI",
          "AUS",
          "AUS",
          "AUS",
          "AUS",
          "AUS",
          "AUS",
          "AUS",
          "AUS",
          "AUS",
          "AUS",
          "AUS",
          "CND",
          "CND",
          "CND",
          "CND",
          "CND",
          "CND",
          "CND",
          "CND",
          "CND",
          "CND",
          "CND",
          "EURO",
          "EURO",
          "EURO",
          "EURO",
          "EURO",
          "EURO",
          "EURO",
          "EURO",
          "EURO",
          "EURO",
          "EURO",
          "USA",
          "USA",
          "USA",
          "USA",
          "USA",
          "USA",
          "USA",
          "USA",
          "USA",
          "USA",
          "USA",
          "WORLD",
          "WORLD",
          "WORLD",
          "WORLD",
          "WORLD",
          "WORLD",
          "WORLD",
          "WORLD",
          "WORLD",
          "WORLD",
          "WORLD"
         ],
         "yaxis": "y"
        }
       ],
       "layout": {
        "annotations": [
         {
          "font": {
           "color": "white",
           "size": 12
          },
          "showarrow": false,
          "text": "Note: The count for each field is added from different number of top institutions in the region available on csranking, not the total institutions in the region. ",
          "x": 0,
          "xref": "paper",
          "y": 1.05,
          "yref": "paper"
         }
        ],
        "coloraxis": {
         "colorbar": {
          "title": {
           "text": "Total Faculty Count"
          }
         },
         "colorscale": [
          [
           0,
           "#440154"
          ],
          [
           0.1111111111111111,
           "#482878"
          ],
          [
           0.2222222222222222,
           "#3e4989"
          ],
          [
           0.3333333333333333,
           "#31688e"
          ],
          [
           0.4444444444444444,
           "#26828e"
          ],
          [
           0.5555555555555556,
           "#1f9e89"
          ],
          [
           0.6666666666666666,
           "#35b779"
          ],
          [
           0.7777777777777778,
           "#6ece58"
          ],
          [
           0.8888888888888888,
           "#b5de2b"
          ],
          [
           1,
           "#fde725"
          ]
         ]
        },
        "legend": {
         "itemsizing": "constant",
         "tracegroupgap": 0
        },
        "template": {
         "data": {
          "bar": [
           {
            "error_x": {
             "color": "#f2f5fa"
            },
            "error_y": {
             "color": "#f2f5fa"
            },
            "marker": {
             "line": {
              "color": "rgb(17,17,17)",
              "width": 0.5
             },
             "pattern": {
              "fillmode": "overlay",
              "size": 10,
              "solidity": 0.2
             }
            },
            "type": "bar"
           }
          ],
          "barpolar": [
           {
            "marker": {
             "line": {
              "color": "rgb(17,17,17)",
              "width": 0.5
             },
             "pattern": {
              "fillmode": "overlay",
              "size": 10,
              "solidity": 0.2
             }
            },
            "type": "barpolar"
           }
          ],
          "carpet": [
           {
            "aaxis": {
             "endlinecolor": "#A2B1C6",
             "gridcolor": "#506784",
             "linecolor": "#506784",
             "minorgridcolor": "#506784",
             "startlinecolor": "#A2B1C6"
            },
            "baxis": {
             "endlinecolor": "#A2B1C6",
             "gridcolor": "#506784",
             "linecolor": "#506784",
             "minorgridcolor": "#506784",
             "startlinecolor": "#A2B1C6"
            },
            "type": "carpet"
           }
          ],
          "choropleth": [
           {
            "colorbar": {
             "outlinewidth": 0,
             "ticks": ""
            },
            "type": "choropleth"
           }
          ],
          "contour": [
           {
            "colorbar": {
             "outlinewidth": 0,
             "ticks": ""
            },
            "colorscale": [
             [
              0,
              "#0d0887"
             ],
             [
              0.1111111111111111,
              "#46039f"
             ],
             [
              0.2222222222222222,
              "#7201a8"
             ],
             [
              0.3333333333333333,
              "#9c179e"
             ],
             [
              0.4444444444444444,
              "#bd3786"
             ],
             [
              0.5555555555555556,
              "#d8576b"
             ],
             [
              0.6666666666666666,
              "#ed7953"
             ],
             [
              0.7777777777777778,
              "#fb9f3a"
             ],
             [
              0.8888888888888888,
              "#fdca26"
             ],
             [
              1,
              "#f0f921"
             ]
            ],
            "type": "contour"
           }
          ],
          "contourcarpet": [
           {
            "colorbar": {
             "outlinewidth": 0,
             "ticks": ""
            },
            "type": "contourcarpet"
           }
          ],
          "heatmap": [
           {
            "colorbar": {
             "outlinewidth": 0,
             "ticks": ""
            },
            "colorscale": [
             [
              0,
              "#0d0887"
             ],
             [
              0.1111111111111111,
              "#46039f"
             ],
             [
              0.2222222222222222,
              "#7201a8"
             ],
             [
              0.3333333333333333,
              "#9c179e"
             ],
             [
              0.4444444444444444,
              "#bd3786"
             ],
             [
              0.5555555555555556,
              "#d8576b"
             ],
             [
              0.6666666666666666,
              "#ed7953"
             ],
             [
              0.7777777777777778,
              "#fb9f3a"
             ],
             [
              0.8888888888888888,
              "#fdca26"
             ],
             [
              1,
              "#f0f921"
             ]
            ],
            "type": "heatmap"
           }
          ],
          "heatmapgl": [
           {
            "colorbar": {
             "outlinewidth": 0,
             "ticks": ""
            },
            "colorscale": [
             [
              0,
              "#0d0887"
             ],
             [
              0.1111111111111111,
              "#46039f"
             ],
             [
              0.2222222222222222,
              "#7201a8"
             ],
             [
              0.3333333333333333,
              "#9c179e"
             ],
             [
              0.4444444444444444,
              "#bd3786"
             ],
             [
              0.5555555555555556,
              "#d8576b"
             ],
             [
              0.6666666666666666,
              "#ed7953"
             ],
             [
              0.7777777777777778,
              "#fb9f3a"
             ],
             [
              0.8888888888888888,
              "#fdca26"
             ],
             [
              1,
              "#f0f921"
             ]
            ],
            "type": "heatmapgl"
           }
          ],
          "histogram": [
           {
            "marker": {
             "pattern": {
              "fillmode": "overlay",
              "size": 10,
              "solidity": 0.2
             }
            },
            "type": "histogram"
           }
          ],
          "histogram2d": [
           {
            "colorbar": {
             "outlinewidth": 0,
             "ticks": ""
            },
            "colorscale": [
             [
              0,
              "#0d0887"
             ],
             [
              0.1111111111111111,
              "#46039f"
             ],
             [
              0.2222222222222222,
              "#7201a8"
             ],
             [
              0.3333333333333333,
              "#9c179e"
             ],
             [
              0.4444444444444444,
              "#bd3786"
             ],
             [
              0.5555555555555556,
              "#d8576b"
             ],
             [
              0.6666666666666666,
              "#ed7953"
             ],
             [
              0.7777777777777778,
              "#fb9f3a"
             ],
             [
              0.8888888888888888,
              "#fdca26"
             ],
             [
              1,
              "#f0f921"
             ]
            ],
            "type": "histogram2d"
           }
          ],
          "histogram2dcontour": [
           {
            "colorbar": {
             "outlinewidth": 0,
             "ticks": ""
            },
            "colorscale": [
             [
              0,
              "#0d0887"
             ],
             [
              0.1111111111111111,
              "#46039f"
             ],
             [
              0.2222222222222222,
              "#7201a8"
             ],
             [
              0.3333333333333333,
              "#9c179e"
             ],
             [
              0.4444444444444444,
              "#bd3786"
             ],
             [
              0.5555555555555556,
              "#d8576b"
             ],
             [
              0.6666666666666666,
              "#ed7953"
             ],
             [
              0.7777777777777778,
              "#fb9f3a"
             ],
             [
              0.8888888888888888,
              "#fdca26"
             ],
             [
              1,
              "#f0f921"
             ]
            ],
            "type": "histogram2dcontour"
           }
          ],
          "mesh3d": [
           {
            "colorbar": {
             "outlinewidth": 0,
             "ticks": ""
            },
            "type": "mesh3d"
           }
          ],
          "parcoords": [
           {
            "line": {
             "colorbar": {
              "outlinewidth": 0,
              "ticks": ""
             }
            },
            "type": "parcoords"
           }
          ],
          "pie": [
           {
            "automargin": true,
            "type": "pie"
           }
          ],
          "scatter": [
           {
            "marker": {
             "line": {
              "color": "#283442"
             }
            },
            "type": "scatter"
           }
          ],
          "scatter3d": [
           {
            "line": {
             "colorbar": {
              "outlinewidth": 0,
              "ticks": ""
             }
            },
            "marker": {
             "colorbar": {
              "outlinewidth": 0,
              "ticks": ""
             }
            },
            "type": "scatter3d"
           }
          ],
          "scattercarpet": [
           {
            "marker": {
             "colorbar": {
              "outlinewidth": 0,
              "ticks": ""
             }
            },
            "type": "scattercarpet"
           }
          ],
          "scattergeo": [
           {
            "marker": {
             "colorbar": {
              "outlinewidth": 0,
              "ticks": ""
             }
            },
            "type": "scattergeo"
           }
          ],
          "scattergl": [
           {
            "marker": {
             "line": {
              "color": "#283442"
             }
            },
            "type": "scattergl"
           }
          ],
          "scattermapbox": [
           {
            "marker": {
             "colorbar": {
              "outlinewidth": 0,
              "ticks": ""
             }
            },
            "type": "scattermapbox"
           }
          ],
          "scatterpolar": [
           {
            "marker": {
             "colorbar": {
              "outlinewidth": 0,
              "ticks": ""
             }
            },
            "type": "scatterpolar"
           }
          ],
          "scatterpolargl": [
           {
            "marker": {
             "colorbar": {
              "outlinewidth": 0,
              "ticks": ""
             }
            },
            "type": "scatterpolargl"
           }
          ],
          "scatterternary": [
           {
            "marker": {
             "colorbar": {
              "outlinewidth": 0,
              "ticks": ""
             }
            },
            "type": "scatterternary"
           }
          ],
          "surface": [
           {
            "colorbar": {
             "outlinewidth": 0,
             "ticks": ""
            },
            "colorscale": [
             [
              0,
              "#0d0887"
             ],
             [
              0.1111111111111111,
              "#46039f"
             ],
             [
              0.2222222222222222,
              "#7201a8"
             ],
             [
              0.3333333333333333,
              "#9c179e"
             ],
             [
              0.4444444444444444,
              "#bd3786"
             ],
             [
              0.5555555555555556,
              "#d8576b"
             ],
             [
              0.6666666666666666,
              "#ed7953"
             ],
             [
              0.7777777777777778,
              "#fb9f3a"
             ],
             [
              0.8888888888888888,
              "#fdca26"
             ],
             [
              1,
              "#f0f921"
             ]
            ],
            "type": "surface"
           }
          ],
          "table": [
           {
            "cells": {
             "fill": {
              "color": "#506784"
             },
             "line": {
              "color": "rgb(17,17,17)"
             }
            },
            "header": {
             "fill": {
              "color": "#2a3f5f"
             },
             "line": {
              "color": "rgb(17,17,17)"
             }
            },
            "type": "table"
           }
          ]
         },
         "layout": {
          "annotationdefaults": {
           "arrowcolor": "#f2f5fa",
           "arrowhead": 0,
           "arrowwidth": 1
          },
          "autotypenumbers": "strict",
          "coloraxis": {
           "colorbar": {
            "outlinewidth": 0,
            "ticks": ""
           }
          },
          "colorscale": {
           "diverging": [
            [
             0,
             "#8e0152"
            ],
            [
             0.1,
             "#c51b7d"
            ],
            [
             0.2,
             "#de77ae"
            ],
            [
             0.3,
             "#f1b6da"
            ],
            [
             0.4,
             "#fde0ef"
            ],
            [
             0.5,
             "#f7f7f7"
            ],
            [
             0.6,
             "#e6f5d0"
            ],
            [
             0.7,
             "#b8e186"
            ],
            [
             0.8,
             "#7fbc41"
            ],
            [
             0.9,
             "#4d9221"
            ],
            [
             1,
             "#276419"
            ]
           ],
           "sequential": [
            [
             0,
             "#0d0887"
            ],
            [
             0.1111111111111111,
             "#46039f"
            ],
            [
             0.2222222222222222,
             "#7201a8"
            ],
            [
             0.3333333333333333,
             "#9c179e"
            ],
            [
             0.4444444444444444,
             "#bd3786"
            ],
            [
             0.5555555555555556,
             "#d8576b"
            ],
            [
             0.6666666666666666,
             "#ed7953"
            ],
            [
             0.7777777777777778,
             "#fb9f3a"
            ],
            [
             0.8888888888888888,
             "#fdca26"
            ],
            [
             1,
             "#f0f921"
            ]
           ],
           "sequentialminus": [
            [
             0,
             "#0d0887"
            ],
            [
             0.1111111111111111,
             "#46039f"
            ],
            [
             0.2222222222222222,
             "#7201a8"
            ],
            [
             0.3333333333333333,
             "#9c179e"
            ],
            [
             0.4444444444444444,
             "#bd3786"
            ],
            [
             0.5555555555555556,
             "#d8576b"
            ],
            [
             0.6666666666666666,
             "#ed7953"
            ],
            [
             0.7777777777777778,
             "#fb9f3a"
            ],
            [
             0.8888888888888888,
             "#fdca26"
            ],
            [
             1,
             "#f0f921"
            ]
           ]
          },
          "colorway": [
           "#636efa",
           "#EF553B",
           "#00cc96",
           "#ab63fa",
           "#FFA15A",
           "#19d3f3",
           "#FF6692",
           "#B6E880",
           "#FF97FF",
           "#FECB52"
          ],
          "font": {
           "color": "#f2f5fa"
          },
          "geo": {
           "bgcolor": "rgb(17,17,17)",
           "lakecolor": "rgb(17,17,17)",
           "landcolor": "rgb(17,17,17)",
           "showlakes": true,
           "showland": true,
           "subunitcolor": "#506784"
          },
          "hoverlabel": {
           "align": "left"
          },
          "hovermode": "closest",
          "mapbox": {
           "style": "dark"
          },
          "paper_bgcolor": "rgb(17,17,17)",
          "plot_bgcolor": "rgb(17,17,17)",
          "polar": {
           "angularaxis": {
            "gridcolor": "#506784",
            "linecolor": "#506784",
            "ticks": ""
           },
           "bgcolor": "rgb(17,17,17)",
           "radialaxis": {
            "gridcolor": "#506784",
            "linecolor": "#506784",
            "ticks": ""
           }
          },
          "scene": {
           "xaxis": {
            "backgroundcolor": "rgb(17,17,17)",
            "gridcolor": "#506784",
            "gridwidth": 2,
            "linecolor": "#506784",
            "showbackground": true,
            "ticks": "",
            "zerolinecolor": "#C8D4E3"
           },
           "yaxis": {
            "backgroundcolor": "rgb(17,17,17)",
            "gridcolor": "#506784",
            "gridwidth": 2,
            "linecolor": "#506784",
            "showbackground": true,
            "ticks": "",
            "zerolinecolor": "#C8D4E3"
           },
           "zaxis": {
            "backgroundcolor": "rgb(17,17,17)",
            "gridcolor": "#506784",
            "gridwidth": 2,
            "linecolor": "#506784",
            "showbackground": true,
            "ticks": "",
            "zerolinecolor": "#C8D4E3"
           }
          },
          "shapedefaults": {
           "line": {
            "color": "#f2f5fa"
           }
          },
          "sliderdefaults": {
           "bgcolor": "#C8D4E3",
           "bordercolor": "rgb(17,17,17)",
           "borderwidth": 1,
           "tickwidth": 0
          },
          "ternary": {
           "aaxis": {
            "gridcolor": "#506784",
            "linecolor": "#506784",
            "ticks": ""
           },
           "baxis": {
            "gridcolor": "#506784",
            "linecolor": "#506784",
            "ticks": ""
           },
           "bgcolor": "rgb(17,17,17)",
           "caxis": {
            "gridcolor": "#506784",
            "linecolor": "#506784",
            "ticks": ""
           }
          },
          "title": {
           "x": 0.05
          },
          "updatemenudefaults": {
           "bgcolor": "#506784",
           "borderwidth": 0
          },
          "xaxis": {
           "automargin": true,
           "gridcolor": "#283442",
           "linecolor": "#506784",
           "ticks": "",
           "title": {
            "standoff": 15
           },
           "zerolinecolor": "#283442",
           "zerolinewidth": 2
          },
          "yaxis": {
           "automargin": true,
           "gridcolor": "#283442",
           "linecolor": "#506784",
           "ticks": "",
           "title": {
            "standoff": 15
           },
           "zerolinecolor": "#283442",
           "zerolinewidth": 2
          }
         }
        },
        "title": {
         "text": "Popularity of Fields in the Region (Aggregated)"
        },
        "xaxis": {
         "anchor": "y",
         "domain": [
          0,
          1
         ],
         "title": {
          "text": "Field"
         }
        },
        "yaxis": {
         "anchor": "x",
         "domain": [
          0,
          1
         ],
         "title": {
          "text": "Region"
         }
        }
       }
      }
     },
     "metadata": {},
     "output_type": "display_data"
    }
   ],
   "source": [
    "# Get files\n",
    "all_files = glob.glob('../detailed/Institutions_*_*.csv')\n",
    "\n",
    "data_dict = {}\n",
    "\n",
    "fields = []\n",
    "regions = []\n",
    "total_faculty_counts = []\n",
    "total_publication_counts = []\n",
    "\n",
    "for file in all_files:\n",
    "    region, field = get_region_and_field(file)\n",
    "    if field == 'all':\n",
    "        continue\n",
    "\n",
    "    df = pd.read_csv(file)\n",
    "    # get the sum of the faculty count and publication count\n",
    "    total_faculty_count = df['Faculty Count'].sum()\n",
    "    total_publication_count = df['Publication Count'].sum()\n",
    "\n",
    "    # append to the lists\n",
    "    fields.append(field)\n",
    "    regions.append(region)\n",
    "    total_faculty_counts.append(total_faculty_count)\n",
    "    total_publication_counts.append(total_publication_count)\n",
    "        \n",
    "\n",
    "# Create a DataFrame from the aggregated data\n",
    "aggregated_data = pd.DataFrame({\n",
    "    'Field': fields,\n",
    "    'Region': regions,\n",
    "    'TotalFacultyCount': total_faculty_counts,\n",
    "    'TotalPublicationCount': total_publication_counts\n",
    "})\n",
    "\n",
    "fig = px.scatter(aggregated_data, x='Field', y='Region', color='TotalFacultyCount', size='TotalPublicationCount',\n",
    "                 title='Popularity of Fields in the Region (Aggregated)', \n",
    "                 labels={'TotalFacultyCount': 'Total Faculty Count', 'TotalPublicationCount': 'Total Publication Count'},\n",
    "                 color_continuous_scale='Viridis', template='plotly_dark')\n",
    "\n",
    "fig.add_annotation(\n",
    "    text='Note: The count for each field is added from different number of top institutions in the region available on csranking, not the total institutions in the region. ',\n",
    "    xref='paper', yref='paper',\n",
    "    x=0, y=1.05,\n",
    "    showarrow=False,\n",
    "    font=dict(size=12, color='white')\n",
    ")\n",
    "\n",
    "# Show the plot\n",
    "fig.show()\n",
    "fig.write_html('../images/field_study.html')"
   ]
  },
  {
   "cell_type": "markdown",
   "metadata": {},
   "source": [
    "## Analyze regional discrepancies\n",
    "\n",
    "- set the x axis to be stdAverageFacultyCount, \n",
    "- y axis to be  stdAveragePublicationCount, \n",
    "- z axis to be the fields. \n",
    "- use different colors for regions \n",
    "- and use the size of the bubble ball to represent the AverageDiscrepencies"
   ]
  },
  {
   "cell_type": "code",
   "execution_count": 49,
   "metadata": {},
   "outputs": [],
   "source": [
    "# Get files\n",
    "all_files = glob.glob('../Discrepancies/Discrepancy_*_*.csv')\n",
    "\n",
    "data_dict = {}\n",
    "\n",
    "fields = []\n",
    "regions = []\n",
    "avg_discrep = []\n",
    "avg_faculty_counts = []\n",
    "avg_publication_counts = []\n",
    "\n",
    "sum_fc = []\n",
    "sum_pc = []\n",
    "\n",
    "for file in all_files:\n",
    "\n",
    "    df = pd.read_csv(file)\n",
    "    # get the sum of the faculty count and publication count\n",
    "    avg_d = df['Discrepancy'].abs().mean()\n",
    "    sum_fc.append(df['Faculty Count'].sum())\n",
    "    sum_pc.append(df['Publication Count'].sum())\n",
    "    # avg_p = df['Standardized Publication Count'].mean()\n",
    "    # avg_f = df['Standardized Faculty Count'].mean()\n",
    "\n",
    "    # append to the lists\n",
    "    fields.append(df['field'][0])\n",
    "    regions.append(df['region'][0])\n",
    "    avg_discrep.append(avg_d)\n",
    "    # avg_faculty_counts.append(avg_f)\n",
    "    # avg_publication_counts.append(avg_p)\n",
    "\n",
    "import numpy as np\n",
    "\n",
    "sum_fc = np.array(sum_fc)\n",
    "sum_pc = np.array(sum_pc)\n",
    "\n",
    "avg_faculty_counts = (sum_fc - np.mean(sum_fc)) / np.std(sum_fc)\n",
    "avg_faculty_counts = np.abs(avg_faculty_counts).tolist()\n",
    "avg_publication_counts = (sum_pc - np.mean(sum_pc)) / np.std(sum_pc)\n",
    "avg_publication_counts = np.abs(avg_publication_counts).tolist()"
   ]
  },
  {
   "cell_type": "code",
   "execution_count": 54,
   "metadata": {},
   "outputs": [
    {
     "data": {
      "application/vnd.plotly.v1+json": {
       "config": {
        "plotlyServerURL": "https://plot.ly"
       },
       "data": [
        {
         "hovertemplate": "Region=ASI<br>ABS Standardized Average Faculty Count=%{x}<br>ABS Standardized Average Publication Count=%{y}<br>Field=%{z}<br>Average Discrepancies=%{marker.size}<extra></extra>",
         "legendgroup": "ASI",
         "marker": {
          "color": "#636efa",
          "size": [
           0.414339397937367,
           0.47368114250184523,
           0.45980335794729077,
           0.5038979030869017,
           0.46716326775926176,
           0.4457132330534214,
           0.3372865059810691,
           0.280785710176372,
           0.4186352392882127,
           0.3314608120899532,
           0.4123182637620122,
           0.29406749746350797
          ],
          "sizemode": "area",
          "sizeref": 0.002628917115316043,
          "symbol": "circle"
         },
         "mode": "markers",
         "name": "ASI",
         "scene": "scene",
         "showlegend": true,
         "type": "scatter3d",
         "x": [
          1.7851374380410854,
          2.696621827162185,
          0.43390330435430485,
          0.25056868339256566,
          0.46676517037574866,
          0.5636211965442146,
          0.5134636115641162,
          0.5878352030863312,
          0.2942464638050555,
          0.5878352030863312,
          0.847709470482004,
          0.4131484416039193
         ],
         "y": [
          3.2011799767995717,
          0.2649888818816048,
          0.20340835088478706,
          0.9376426646444833,
          0.3383421614513436,
          0.5511572318079931,
          0.46331441553312086,
          0.5692691526894101,
          0.38633875178709864,
          0.42120419948382626,
          0.4107898449770114,
          0.42301539157196805
         ],
         "z": [
          "ai",
          "all",
          "arch",
          "database",
          "hpc",
          "metr",
          "network",
          "os",
          "oth",
          "proglan",
          "sys",
          "the"
         ]
        },
        {
         "hovertemplate": "Region=AUS<br>ABS Standardized Average Faculty Count=%{x}<br>ABS Standardized Average Publication Count=%{y}<br>Field=%{z}<br>Average Discrepancies=%{marker.size}<extra></extra>",
         "legendgroup": "AUS",
         "marker": {
          "color": "#EF553B",
          "size": [
           0.43102355403799947,
           0.36346341333855087,
           0.2618255854075634,
           0.5238799505307635,
           0.7611164839335465,
           0.3740685003951992,
           0,
           1.0515668461264172,
           0.3527312371346675,
           0.23447300068483073,
           0.30192201093340515,
           0.499452489240958
          ],
          "sizemode": "area",
          "sizeref": 0.002628917115316043,
          "symbol": "circle"
         },
         "mode": "markers",
         "name": "AUS",
         "scene": "scene",
         "showlegend": true,
         "type": "scatter3d",
         "x": [
          0.2730531180388167,
          0.006699046075535238,
          0.71409395148451,
          0.6725842259837389,
          0.7262009547555682,
          0.7192826671721064,
          0.7313896704431647,
          0.7296600985472992,
          0.4892496050219997,
          0.7054460920051827,
          0.5342184743145018,
          0.6812320854630662
         ],
         "y": [
          0.36686843683957543,
          0.7168813078729586,
          0.8251000351394251,
          0.5181029761994072,
          0.8441175520649129,
          0.8183080648088936,
          0.8509095223954444,
          0.8427591579988066,
          0.7286540564458797,
          0.8106104984342914,
          0.7594443219442885,
          0.7956681637071225
         ],
         "z": [
          "ai",
          "all",
          "arch",
          "database",
          "hpc",
          "metr",
          "network",
          "os",
          "oth",
          "proglan",
          "sys",
          "the"
         ]
        },
        {
         "hovertemplate": "Region=CND<br>ABS Standardized Average Faculty Count=%{x}<br>ABS Standardized Average Publication Count=%{y}<br>Field=%{z}<br>Average Discrepancies=%{marker.size}<extra></extra>",
         "legendgroup": "CND",
         "marker": {
          "color": "#00cc96",
          "size": [
           0.14789088965719735,
           0.17983483174526688,
           0.1809053884446855,
           0.06532712835078487,
           0.15327076051083371,
           0.3638126564183854,
           0.4297919094551289,
           0.08770873643706723,
           0.25150763351964645,
           0.21154724472691322,
           0.11661318175376974,
           0.24352004363541963
          ],
          "sizemode": "area",
          "sizeref": 0.002628917115316043,
          "symbol": "circle"
         },
         "mode": "markers",
         "name": "CND",
         "scene": "scene",
         "showlegend": true,
         "type": "scatter3d",
         "x": [
          0.13641693826544504,
          0.37726591480659777,
          0.6898799449423936,
          0.6345336442746987,
          0.7037165201093173,
          0.7158235233803755,
          0.7106348076927791,
          0.7071756639010481,
          0.36645000041555176,
          0.7019869482134518,
          0.3802865755824755,
          0.594753490669793
         ],
         "y": [
          0.20114436077460995,
          0.5891922656589689,
          0.6955998008372936,
          0.47237037597382925,
          0.7961209617291578,
          0.8282696212936731,
          0.8232888430512834,
          0.8137800845885395,
          0.5679107586233039,
          0.7463131793052611,
          0.6987693869915416,
          0.629944087642157
         ],
         "z": [
          "ai",
          "all",
          "arch",
          "database",
          "hpc",
          "metr",
          "network",
          "os",
          "oth",
          "proglan",
          "sys",
          "the"
         ]
        },
        {
         "hovertemplate": "Region=EURO<br>ABS Standardized Average Faculty Count=%{x}<br>ABS Standardized Average Publication Count=%{y}<br>Field=%{z}<br>Average Discrepancies=%{marker.size}<extra></extra>",
         "legendgroup": "EURO",
         "marker": {
          "color": "#ab63fa",
          "size": [
           0.7267032738040354,
           0.7527392460945984,
           0.46977678520394306,
           0.5701159606703329,
           0.6541786325085712,
           0.5552213568880278,
           0.4128770546485721,
           0.358734299525315,
           0.7134670519470246,
           0.5881253393412239,
           0.7759229390465316,
           0.5776678934569724
          ],
          "sizemode": "area",
          "sizeref": 0.002628917115316043,
          "symbol": "circle"
         },
         "mode": "markers",
         "name": "EURO",
         "scene": "scene",
         "showlegend": true,
         "type": "scatter3d",
         "x": [
          0.634972127290552,
          1.7488164282279106,
          0.523841042939309,
          0.4944383207095961,
          0.5999422063573894,
          0.5636211965442146,
          0.5791873436070039,
          0.6293449285871023,
          0.0970752676763926,
          0.4373624481460358,
          0.2942464638050555,
          0.015346905554862558
         ],
         "y": [
          0.951226605305546,
          0.34513413178187496,
          0.2821952067189509,
          0.3698339450120604,
          0.4243737856380742,
          0.43569373618895985,
          0.504066237516309,
          0.6399056441269363,
          0.37456600321417755,
          0.061931290027972014,
          0.4931990849874588,
          0.16562203707408416
         ],
         "z": [
          "ai",
          "all",
          "arch",
          "database",
          "hpc",
          "metr",
          "network",
          "os",
          "oth",
          "proglan",
          "sys",
          "the"
         ]
        },
        {
         "hovertemplate": "Region=USA<br>ABS Standardized Average Faculty Count=%{x}<br>ABS Standardized Average Publication Count=%{y}<br>Field=%{z}<br>Average Discrepancies=%{marker.size}<extra></extra>",
         "legendgroup": "USA",
         "marker": {
          "color": "#FFA15A",
          "size": [
           0.544498080068134,
           0.3360244440179803,
           0.41559176730722913,
           0.6650013213046827,
           0.4740114274454383,
           0.5853773372776886,
           0.5078418001359721,
           0.40076589587187067,
           0.5286311816592297,
           0.3318238051712838,
           0.48708624630018194
          ],
          "sizemode": "area",
          "sizeref": 0.002628917115316043,
          "symbol": "circle"
         },
         "mode": "markers",
         "name": "USA",
         "scene": "scene",
         "showlegend": true,
         "type": "scatter3d",
         "x": [
          1.7176841341023323,
          3.289864987444039,
          0.16409008859929247,
          0.1779266637662162,
          0.4027710102287265,
          0.38547529127007185,
          0.2868896932057404,
          0.3837457193742064,
          0.3162924154354533,
          1.3579331797623158,
          0.0019488134037920818
         ],
         "y": [
          2.9539522567682304,
          0.259351227635417,
          1.2681852207303432,
          1.0784628494975,
          0.13392617553160405,
          0.01076511353796885,
          0.43503686018516147,
          0.14680859813035899,
          0.3648531667696706,
          0.018915477934606288,
          0.46446873161746405
         ],
         "z": [
          "ai",
          "all",
          "arch",
          "database",
          "hpc",
          "metr",
          "network",
          "os",
          "proglan",
          "sys",
          "the"
         ]
        },
        {
         "hovertemplate": "Region=WORLD<br>ABS Standardized Average Faculty Count=%{x}<br>ABS Standardized Average Publication Count=%{y}<br>Field=%{z}<br>Average Discrepancies=%{marker.size}<extra></extra>",
         "legendgroup": "WORLD",
         "marker": {
          "color": "#19d3f3",
          "size": [
           0.5701192850415003,
           0.5750449448610451,
           0.533465974539814,
           0.7372274809959652,
           0.6023748485968239,
           0.7421598868508618,
           0.6559318542729649,
           0.449434131608076,
           0.4994595110328099,
           0.7003949068856465,
           0.5374470917596131,
           0.776228601835967
          ],
          "sizemode": "area",
          "sizeref": 0.002628917115316043,
          "symbol": "circle"
         },
         "mode": "markers",
         "name": "WORLD",
         "scene": "scene",
         "showlegend": true,
         "type": "scatter3d",
         "x": [
          2.4233494676154415,
          3.993800749061283,
          0.12949865068198319,
          0.06550449053496102,
          0.32321070301891514,
          0.3439655657693007,
          0.23673210822564195,
          0.31802198733131876,
          1.3423670326995265,
          0.25575739908016204,
          1.702117987039543,
          0.1697172873027421
         ],
         "y": [
          4.675037538524879,
          0.40696338281896566,
          1.5031873941667286,
          2.2326450076657975,
          0.3417604676458641,
          0.06600647222629086,
          0.5491419617380889,
          0.008252403387518934,
          0.3241013447864829,
          0.6867925604368577,
          0.13845415575195844,
          0.826707149245804
         ],
         "z": [
          "ai",
          "all",
          "arch",
          "database",
          "hpc",
          "metr",
          "network",
          "os",
          "oth",
          "proglan",
          "sys",
          "the"
         ]
        }
       ],
       "layout": {
        "legend": {
         "itemsizing": "constant",
         "title": {
          "text": "Region"
         },
         "tracegroupgap": 0
        },
        "scene": {
         "domain": {
          "x": [
           0,
           1
          ],
          "y": [
           0,
           1
          ]
         },
         "xaxis": {
          "title": {
           "text": "ABS Standardized Average Faculty Count"
          }
         },
         "yaxis": {
          "title": {
           "text": "ABS Standardized Average Publication Count"
          }
         },
         "zaxis": {
          "title": {
           "text": "Field"
          }
         }
        },
        "template": {
         "data": {
          "bar": [
           {
            "error_x": {
             "color": "#f2f5fa"
            },
            "error_y": {
             "color": "#f2f5fa"
            },
            "marker": {
             "line": {
              "color": "rgb(17,17,17)",
              "width": 0.5
             },
             "pattern": {
              "fillmode": "overlay",
              "size": 10,
              "solidity": 0.2
             }
            },
            "type": "bar"
           }
          ],
          "barpolar": [
           {
            "marker": {
             "line": {
              "color": "rgb(17,17,17)",
              "width": 0.5
             },
             "pattern": {
              "fillmode": "overlay",
              "size": 10,
              "solidity": 0.2
             }
            },
            "type": "barpolar"
           }
          ],
          "carpet": [
           {
            "aaxis": {
             "endlinecolor": "#A2B1C6",
             "gridcolor": "#506784",
             "linecolor": "#506784",
             "minorgridcolor": "#506784",
             "startlinecolor": "#A2B1C6"
            },
            "baxis": {
             "endlinecolor": "#A2B1C6",
             "gridcolor": "#506784",
             "linecolor": "#506784",
             "minorgridcolor": "#506784",
             "startlinecolor": "#A2B1C6"
            },
            "type": "carpet"
           }
          ],
          "choropleth": [
           {
            "colorbar": {
             "outlinewidth": 0,
             "ticks": ""
            },
            "type": "choropleth"
           }
          ],
          "contour": [
           {
            "colorbar": {
             "outlinewidth": 0,
             "ticks": ""
            },
            "colorscale": [
             [
              0,
              "#0d0887"
             ],
             [
              0.1111111111111111,
              "#46039f"
             ],
             [
              0.2222222222222222,
              "#7201a8"
             ],
             [
              0.3333333333333333,
              "#9c179e"
             ],
             [
              0.4444444444444444,
              "#bd3786"
             ],
             [
              0.5555555555555556,
              "#d8576b"
             ],
             [
              0.6666666666666666,
              "#ed7953"
             ],
             [
              0.7777777777777778,
              "#fb9f3a"
             ],
             [
              0.8888888888888888,
              "#fdca26"
             ],
             [
              1,
              "#f0f921"
             ]
            ],
            "type": "contour"
           }
          ],
          "contourcarpet": [
           {
            "colorbar": {
             "outlinewidth": 0,
             "ticks": ""
            },
            "type": "contourcarpet"
           }
          ],
          "heatmap": [
           {
            "colorbar": {
             "outlinewidth": 0,
             "ticks": ""
            },
            "colorscale": [
             [
              0,
              "#0d0887"
             ],
             [
              0.1111111111111111,
              "#46039f"
             ],
             [
              0.2222222222222222,
              "#7201a8"
             ],
             [
              0.3333333333333333,
              "#9c179e"
             ],
             [
              0.4444444444444444,
              "#bd3786"
             ],
             [
              0.5555555555555556,
              "#d8576b"
             ],
             [
              0.6666666666666666,
              "#ed7953"
             ],
             [
              0.7777777777777778,
              "#fb9f3a"
             ],
             [
              0.8888888888888888,
              "#fdca26"
             ],
             [
              1,
              "#f0f921"
             ]
            ],
            "type": "heatmap"
           }
          ],
          "heatmapgl": [
           {
            "colorbar": {
             "outlinewidth": 0,
             "ticks": ""
            },
            "colorscale": [
             [
              0,
              "#0d0887"
             ],
             [
              0.1111111111111111,
              "#46039f"
             ],
             [
              0.2222222222222222,
              "#7201a8"
             ],
             [
              0.3333333333333333,
              "#9c179e"
             ],
             [
              0.4444444444444444,
              "#bd3786"
             ],
             [
              0.5555555555555556,
              "#d8576b"
             ],
             [
              0.6666666666666666,
              "#ed7953"
             ],
             [
              0.7777777777777778,
              "#fb9f3a"
             ],
             [
              0.8888888888888888,
              "#fdca26"
             ],
             [
              1,
              "#f0f921"
             ]
            ],
            "type": "heatmapgl"
           }
          ],
          "histogram": [
           {
            "marker": {
             "pattern": {
              "fillmode": "overlay",
              "size": 10,
              "solidity": 0.2
             }
            },
            "type": "histogram"
           }
          ],
          "histogram2d": [
           {
            "colorbar": {
             "outlinewidth": 0,
             "ticks": ""
            },
            "colorscale": [
             [
              0,
              "#0d0887"
             ],
             [
              0.1111111111111111,
              "#46039f"
             ],
             [
              0.2222222222222222,
              "#7201a8"
             ],
             [
              0.3333333333333333,
              "#9c179e"
             ],
             [
              0.4444444444444444,
              "#bd3786"
             ],
             [
              0.5555555555555556,
              "#d8576b"
             ],
             [
              0.6666666666666666,
              "#ed7953"
             ],
             [
              0.7777777777777778,
              "#fb9f3a"
             ],
             [
              0.8888888888888888,
              "#fdca26"
             ],
             [
              1,
              "#f0f921"
             ]
            ],
            "type": "histogram2d"
           }
          ],
          "histogram2dcontour": [
           {
            "colorbar": {
             "outlinewidth": 0,
             "ticks": ""
            },
            "colorscale": [
             [
              0,
              "#0d0887"
             ],
             [
              0.1111111111111111,
              "#46039f"
             ],
             [
              0.2222222222222222,
              "#7201a8"
             ],
             [
              0.3333333333333333,
              "#9c179e"
             ],
             [
              0.4444444444444444,
              "#bd3786"
             ],
             [
              0.5555555555555556,
              "#d8576b"
             ],
             [
              0.6666666666666666,
              "#ed7953"
             ],
             [
              0.7777777777777778,
              "#fb9f3a"
             ],
             [
              0.8888888888888888,
              "#fdca26"
             ],
             [
              1,
              "#f0f921"
             ]
            ],
            "type": "histogram2dcontour"
           }
          ],
          "mesh3d": [
           {
            "colorbar": {
             "outlinewidth": 0,
             "ticks": ""
            },
            "type": "mesh3d"
           }
          ],
          "parcoords": [
           {
            "line": {
             "colorbar": {
              "outlinewidth": 0,
              "ticks": ""
             }
            },
            "type": "parcoords"
           }
          ],
          "pie": [
           {
            "automargin": true,
            "type": "pie"
           }
          ],
          "scatter": [
           {
            "marker": {
             "line": {
              "color": "#283442"
             }
            },
            "type": "scatter"
           }
          ],
          "scatter3d": [
           {
            "line": {
             "colorbar": {
              "outlinewidth": 0,
              "ticks": ""
             }
            },
            "marker": {
             "colorbar": {
              "outlinewidth": 0,
              "ticks": ""
             }
            },
            "type": "scatter3d"
           }
          ],
          "scattercarpet": [
           {
            "marker": {
             "colorbar": {
              "outlinewidth": 0,
              "ticks": ""
             }
            },
            "type": "scattercarpet"
           }
          ],
          "scattergeo": [
           {
            "marker": {
             "colorbar": {
              "outlinewidth": 0,
              "ticks": ""
             }
            },
            "type": "scattergeo"
           }
          ],
          "scattergl": [
           {
            "marker": {
             "line": {
              "color": "#283442"
             }
            },
            "type": "scattergl"
           }
          ],
          "scattermapbox": [
           {
            "marker": {
             "colorbar": {
              "outlinewidth": 0,
              "ticks": ""
             }
            },
            "type": "scattermapbox"
           }
          ],
          "scatterpolar": [
           {
            "marker": {
             "colorbar": {
              "outlinewidth": 0,
              "ticks": ""
             }
            },
            "type": "scatterpolar"
           }
          ],
          "scatterpolargl": [
           {
            "marker": {
             "colorbar": {
              "outlinewidth": 0,
              "ticks": ""
             }
            },
            "type": "scatterpolargl"
           }
          ],
          "scatterternary": [
           {
            "marker": {
             "colorbar": {
              "outlinewidth": 0,
              "ticks": ""
             }
            },
            "type": "scatterternary"
           }
          ],
          "surface": [
           {
            "colorbar": {
             "outlinewidth": 0,
             "ticks": ""
            },
            "colorscale": [
             [
              0,
              "#0d0887"
             ],
             [
              0.1111111111111111,
              "#46039f"
             ],
             [
              0.2222222222222222,
              "#7201a8"
             ],
             [
              0.3333333333333333,
              "#9c179e"
             ],
             [
              0.4444444444444444,
              "#bd3786"
             ],
             [
              0.5555555555555556,
              "#d8576b"
             ],
             [
              0.6666666666666666,
              "#ed7953"
             ],
             [
              0.7777777777777778,
              "#fb9f3a"
             ],
             [
              0.8888888888888888,
              "#fdca26"
             ],
             [
              1,
              "#f0f921"
             ]
            ],
            "type": "surface"
           }
          ],
          "table": [
           {
            "cells": {
             "fill": {
              "color": "#506784"
             },
             "line": {
              "color": "rgb(17,17,17)"
             }
            },
            "header": {
             "fill": {
              "color": "#2a3f5f"
             },
             "line": {
              "color": "rgb(17,17,17)"
             }
            },
            "type": "table"
           }
          ]
         },
         "layout": {
          "annotationdefaults": {
           "arrowcolor": "#f2f5fa",
           "arrowhead": 0,
           "arrowwidth": 1
          },
          "autotypenumbers": "strict",
          "coloraxis": {
           "colorbar": {
            "outlinewidth": 0,
            "ticks": ""
           }
          },
          "colorscale": {
           "diverging": [
            [
             0,
             "#8e0152"
            ],
            [
             0.1,
             "#c51b7d"
            ],
            [
             0.2,
             "#de77ae"
            ],
            [
             0.3,
             "#f1b6da"
            ],
            [
             0.4,
             "#fde0ef"
            ],
            [
             0.5,
             "#f7f7f7"
            ],
            [
             0.6,
             "#e6f5d0"
            ],
            [
             0.7,
             "#b8e186"
            ],
            [
             0.8,
             "#7fbc41"
            ],
            [
             0.9,
             "#4d9221"
            ],
            [
             1,
             "#276419"
            ]
           ],
           "sequential": [
            [
             0,
             "#0d0887"
            ],
            [
             0.1111111111111111,
             "#46039f"
            ],
            [
             0.2222222222222222,
             "#7201a8"
            ],
            [
             0.3333333333333333,
             "#9c179e"
            ],
            [
             0.4444444444444444,
             "#bd3786"
            ],
            [
             0.5555555555555556,
             "#d8576b"
            ],
            [
             0.6666666666666666,
             "#ed7953"
            ],
            [
             0.7777777777777778,
             "#fb9f3a"
            ],
            [
             0.8888888888888888,
             "#fdca26"
            ],
            [
             1,
             "#f0f921"
            ]
           ],
           "sequentialminus": [
            [
             0,
             "#0d0887"
            ],
            [
             0.1111111111111111,
             "#46039f"
            ],
            [
             0.2222222222222222,
             "#7201a8"
            ],
            [
             0.3333333333333333,
             "#9c179e"
            ],
            [
             0.4444444444444444,
             "#bd3786"
            ],
            [
             0.5555555555555556,
             "#d8576b"
            ],
            [
             0.6666666666666666,
             "#ed7953"
            ],
            [
             0.7777777777777778,
             "#fb9f3a"
            ],
            [
             0.8888888888888888,
             "#fdca26"
            ],
            [
             1,
             "#f0f921"
            ]
           ]
          },
          "colorway": [
           "#636efa",
           "#EF553B",
           "#00cc96",
           "#ab63fa",
           "#FFA15A",
           "#19d3f3",
           "#FF6692",
           "#B6E880",
           "#FF97FF",
           "#FECB52"
          ],
          "font": {
           "color": "#f2f5fa"
          },
          "geo": {
           "bgcolor": "rgb(17,17,17)",
           "lakecolor": "rgb(17,17,17)",
           "landcolor": "rgb(17,17,17)",
           "showlakes": true,
           "showland": true,
           "subunitcolor": "#506784"
          },
          "hoverlabel": {
           "align": "left"
          },
          "hovermode": "closest",
          "mapbox": {
           "style": "dark"
          },
          "paper_bgcolor": "rgb(17,17,17)",
          "plot_bgcolor": "rgb(17,17,17)",
          "polar": {
           "angularaxis": {
            "gridcolor": "#506784",
            "linecolor": "#506784",
            "ticks": ""
           },
           "bgcolor": "rgb(17,17,17)",
           "radialaxis": {
            "gridcolor": "#506784",
            "linecolor": "#506784",
            "ticks": ""
           }
          },
          "scene": {
           "xaxis": {
            "backgroundcolor": "rgb(17,17,17)",
            "gridcolor": "#506784",
            "gridwidth": 2,
            "linecolor": "#506784",
            "showbackground": true,
            "ticks": "",
            "zerolinecolor": "#C8D4E3"
           },
           "yaxis": {
            "backgroundcolor": "rgb(17,17,17)",
            "gridcolor": "#506784",
            "gridwidth": 2,
            "linecolor": "#506784",
            "showbackground": true,
            "ticks": "",
            "zerolinecolor": "#C8D4E3"
           },
           "zaxis": {
            "backgroundcolor": "rgb(17,17,17)",
            "gridcolor": "#506784",
            "gridwidth": 2,
            "linecolor": "#506784",
            "showbackground": true,
            "ticks": "",
            "zerolinecolor": "#C8D4E3"
           }
          },
          "shapedefaults": {
           "line": {
            "color": "#f2f5fa"
           }
          },
          "sliderdefaults": {
           "bgcolor": "#C8D4E3",
           "bordercolor": "rgb(17,17,17)",
           "borderwidth": 1,
           "tickwidth": 0
          },
          "ternary": {
           "aaxis": {
            "gridcolor": "#506784",
            "linecolor": "#506784",
            "ticks": ""
           },
           "baxis": {
            "gridcolor": "#506784",
            "linecolor": "#506784",
            "ticks": ""
           },
           "bgcolor": "rgb(17,17,17)",
           "caxis": {
            "gridcolor": "#506784",
            "linecolor": "#506784",
            "ticks": ""
           }
          },
          "title": {
           "x": 0.05
          },
          "updatemenudefaults": {
           "bgcolor": "#506784",
           "borderwidth": 0
          },
          "xaxis": {
           "automargin": true,
           "gridcolor": "#283442",
           "linecolor": "#506784",
           "ticks": "",
           "title": {
            "standoff": 15
           },
           "zerolinecolor": "#283442",
           "zerolinewidth": 2
          },
          "yaxis": {
           "automargin": true,
           "gridcolor": "#283442",
           "linecolor": "#506784",
           "ticks": "",
           "title": {
            "standoff": 15
           },
           "zerolinecolor": "#283442",
           "zerolinewidth": 2
          }
         }
        },
        "title": {
         "text": "3D Scatter Plot with Averages and Discrepancies"
        }
       }
      }
     },
     "metadata": {},
     "output_type": "display_data"
    }
   ],
   "source": [
    "# Create a DataFrame from the aggregated data\n",
    "avg_data = pd.DataFrame({\n",
    "    'Field': fields,\n",
    "    'Region': regions,\n",
    "    'AverageDiscrepencies': avg_discrep,\n",
    "    'stdAverageFacultyCount': avg_faculty_counts,\n",
    "    'stdAveragePublicationCount': avg_publication_counts\n",
    "})\n",
    "\n",
    "# handle NaN in avg_data\n",
    "avg_data = avg_data.fillna(0)\n",
    "\n",
    "# Create a 3D scatter plot using Plotly Express\n",
    "fig = px.scatter_3d(avg_data, x='stdAverageFacultyCount', y='stdAveragePublicationCount', z='Field',\n",
    "                    color='Region', size='AverageDiscrepencies',\n",
    "                    title='3D Scatter Plot with Averages and Discrepancies',\n",
    "                    labels={'stdAverageFacultyCount': 'ABS Standardized Average Faculty Count',\n",
    "                            'stdAveragePublicationCount': 'ABS Standardized Average Publication Count',\n",
    "                            'AverageDiscrepencies': 'Average Discrepancies'},\n",
    "                    # color_discrete_map={'EURO': 'red', 'WORLD': 'green', 'USA': 'blue', 'CA': 'purple'},\n",
    "                    template='plotly_dark')\n",
    "\n",
    "\"\"\"\n",
    "set the x axis to be stdAverageFacultyCount, \n",
    "y axis to be  stdAveragePublicationCount, \n",
    "z axis to be the fields. \n",
    "use different colors for regions \n",
    "and use the size of the bubble ball to represent the AverageDiscrepencies\n",
    "\"\"\"\n",
    "\n",
    "# Show the plot\n",
    "fig.show()\n",
    "\n",
    "\n",
    "fig.write_html('../images/field_study_dicrep.html')"
   ]
  }
 ],
 "metadata": {
  "kernelspec": {
   "display_name": "mathmodelling",
   "language": "python",
   "name": "python3"
  },
  "language_info": {
   "codemirror_mode": {
    "name": "ipython",
    "version": 3
   },
   "file_extension": ".py",
   "mimetype": "text/x-python",
   "name": "python",
   "nbconvert_exporter": "python",
   "pygments_lexer": "ipython3",
   "version": "3.8.16"
  }
 },
 "nbformat": 4,
 "nbformat_minor": 2
}
