{
 "cells": [
  {
   "cell_type": "markdown",
   "metadata": {},
   "source": [
    "# Visualize Fac and Pub in a World Map "
   ]
  },
  {
   "cell_type": "markdown",
   "metadata": {},
   "source": [
    "## Fecth Location Info\n",
    "\n",
    "The following cell is not run on local machine, because of connection error related to proxy issues. Therefore, the code segment is run on google colab and github codespace instead."
   ]
  },
  {
   "cell_type": "code",
   "execution_count": null,
   "metadata": {},
   "outputs": [],
   "source": [
    "import pandas as pd\n",
    "import glob\n",
    "import re\n",
    "\n",
    "def get_region_and_field(file_name):\n",
    "    # Get region\n",
    "    region = re.search('Institutions_(.*?)_', file_name).group(1)\n",
    "    # Get field\n",
    "    field = re.search('_(.*?)\\.csv', file_name).group(1).split('_')[-1]\n",
    "    return region, field\n",
    "\n",
    "all_files = glob.glob('detailed\\Institutions_*_*.csv')\n",
    "df_list = []\n",
    "for file in all_files:\n",
    "    region, field = get_region_and_field(file)\n",
    "    df = pd.read_csv(file)\n",
    "    df['field'] = field\n",
    "    df_list.append(df)"
   ]
  },
  {
   "cell_type": "code",
   "execution_count": null,
   "metadata": {},
   "outputs": [],
   "source": [
    "from geopy.geocoders import Nominatim\n",
    "\n",
    "for df in df_list:\n",
    "    field = df['field'][0]\n",
    "    geolocator = Nominatim(user_agent=\"my_geocoder\")\n",
    "    df['location'] = df['University'].apply(lambda x: geolocator.geocode(x) if geolocator.geocode(x) else None)\n",
    "\n",
    "    # Extract latitude and longitude from the location object\n",
    "    df['lat'] = df['location'].apply(lambda x: x.latitude if x else None)\n",
    "    df['lon'] = df['location'].apply(lambda x: x.longitude if x else None)\n",
    "    \n",
    "    df.to_csv('WithLocation/location_{}.csv'.format(field), index = False)\n",
    "    # Filter out rows with missing coordinates\n",
    "    df = df.dropna(subset=['lat', 'lon'])"
   ]
  },
  {
   "cell_type": "markdown",
   "metadata": {},
   "source": [
    "``` python\n",
    "# output of the cell on colab\n",
    "print(df_list[0])\n",
    "\n",
    "\"\"\"\n",
    "    Rank                             University  Faculty Count  \\\n",
    "0      1                Northeastern University              8   \n",
    "1      2        Univ. of California - San Diego              9   \n",
    "2      3        Georgia Institute of Technology             17   \n",
    "3      4             Carnegie Mellon University             12   \n",
    "4      5    University of Massachusetts Amherst              8   \n",
    "5      6                               TU Delft              7   \n",
    "6      7          Pennsylvania State University             10   \n",
    "7      8  Massachusetts Institute of Technology              8   \n",
    "8      9                 University of Michigan              9   \n",
    "9     10                    Columbia University              9   \n",
    "10    11                  Ohio State University              6   \n",
    "11    12  Univ. of Illinois at Urbana-Champaign             10   \n",
    "12    13     California Institute of Technology              2   \n",
    "13    13                     Max Planck Society              4   \n",
    "14    15                 Stony Brook University              8   \n",
    "15    15        Univ. of California - Riverside              8   \n",
    "16    17      University of Southern California              4   \n",
    "17    17      University of Wisconsin - Madison              8   \n",
    "18    19                  University of Chicago              4   \n",
    "19    20               IMDEA Networks Institute              5   \n",
    "20    20                    Tsinghua University             17   \n",
    "21    22  University of Maryland - College Park              6   \n",
    "22    23               University of Washington              6   \n",
    "23    24                             ETH Zurich              6   \n",
    "24    25                                   EPFL              7   \n",
    "25    26                   Princeton University              8   \n",
    "26    27                Northwestern University              4   \n",
    "27    27                  University of Waikato              3   \n",
    "28    29                                  KAIST              6   \n",
    "29    30                      Purdue University              8   \n",
    "\n",
    "    Publication Count field  \\\n",
    "0                15.0  metr   \n",
    "1                13.3  metr   \n",
    "2                12.0  metr   \n",
    "3                 9.8  metr   \n",
    "4                 9.0  metr   \n",
    "5                 8.5  metr   \n",
    "6                 8.3  metr   \n",
    "7                 7.3  metr   \n",
    "8                 7.2  metr   \n",
    "9                 6.9  metr   \n",
    "10                6.5  metr   \n",
    "11                6.3  metr   \n",
    "12                6.2  metr   \n",
    "13                6.2  metr   \n",
    "14                6.1  metr   \n",
    "15                6.1  metr   \n",
    "16                6.0  metr   \n",
    "17                6.0  metr   \n",
    "18                5.9  metr   \n",
    "19                5.7  metr   \n",
    "20                5.7  metr   \n",
    "21                5.6  metr   \n",
    "22                5.1  metr   \n",
    "23                4.9  metr   \n",
    "24                4.8  metr   \n",
    "25                4.6  metr   \n",
    "26                4.5  metr   \n",
    "27                4.5  metr   \n",
    "28                4.4  metr   \n",
    "29                4.3  metr   \n",
    "\n",
    "                                             location        lat         lon  \n",
    "0   (Northeastern University, 360, Huntington Aven...  42.339070  -71.087838  \n",
    "1   (University of California, San Diego, 9500, Gi...  32.879244 -117.231125  \n",
    "2   (Georgia Tech, Ferst Drive Northwest, Atlanta,...  33.776095  -84.398808  \n",
    "3   (Carnegie Mellon University, Zebina Way, Belle...  40.444190  -79.942719  \n",
    "4   (University of Massachusetts Amherst, North Ha...  42.386938  -72.529915  \n",
    "5   (Technische Universiteit Delft, Rijksstraatweg...  51.998827    4.373960  \n",
    "6   (Touro College, 320, West 31st Street, Manhatt...  40.750536  -73.995675  \n",
    "7   (Massachusetts Institute of Technology, Bishop...  42.358253  -71.096627  \n",
    "8   (University of Michigan, 500, South State Stre...  42.294214  -83.710039  \n",
    "9   (Columbia University, West 120th Street, Manha...  40.807756  -73.961649  \n",
    "10  (The Ohio State University at Mansfield, 1760,...  40.798811  -82.578229  \n",
    "11  (Atkins Golf Club at the University of Illinoi...  40.090629  -88.176418  \n",
    "12  (California Institute of Technology, San Pasqu...  34.137014 -118.125288  \n",
    "13  (SKA-MPI (Max Planck Society Precursor), Karee... -30.717988   21.413052  \n",
    "14  (Stony Brook University, Town of Brookhaven, S...  40.909883  -73.121550  \n",
    "15  (University of California, Riverside, 900, Uni...  33.964257 -117.339786  \n",
    "16  (University of Southern California, Flower Str...  34.021883 -118.285867  \n",
    "17  (University of Wisconsin-Madison, South Allen ...  43.080274  -89.430959  \n",
    "18  (The University of Chicago, 5801, South Ellis ...  41.791397  -87.600844  \n",
    "19                                               None        NaN         NaN  \n",
    "20  (清华大学, 30, 双清路, 五道口, 清华园街道, 东升镇, 海淀区, 北京市, 100...  40.002290  116.320963  \n",
    "21  (University of Maryland, College Park, Baltimo...  38.990412  -76.943859  \n",
    "22  (University of Washington, Yesler Swamp Trail,...  47.655623 -122.302722  \n",
    "23  (ETH Zürich, 130, Binzmühlestrasse, Oerlikon, ...  47.413218    8.537491  \n",
    "24  (École Polytechnique Fédérale de Lausanne, Rou...  46.518659    6.566562  \n",
    "25  (Princeton University, Alexander Road, Princet...  40.338675  -74.658365  \n",
    "26  (Northwestern University, 633, Clark Street, D...  42.055716  -87.675295  \n",
    "27  (University of Waikato, Tralee Place, Ruakura,... -37.785874  175.316766  \n",
    "28  (카이스트안경, 명동8나길, 충무로1가, 명동, 중구, 서울특별시, 04536, 대...  37.561230  126.983240  \n",
    "29  (Purdue University, 610, West Lafayette, Tippe...  40.430028  -86.926421  \n",
    "\n",
    "\"\"\"\n",
    "```"
   ]
  },
  {
   "cell_type": "markdown",
   "metadata": {},
   "source": [
    "## Visualize the data with Dash and Plotly\n"
   ]
  },
  {
   "cell_type": "markdown",
   "metadata": {},
   "source": [
    "### Generate data dict\n",
    "\n",
    "This portion is run on colab. For local running, refer to the following section."
   ]
  },
  {
   "cell_type": "code",
   "execution_count": null,
   "metadata": {},
   "outputs": [],
   "source": [
    "import dash\n",
    "from dash import dcc, html\n",
    "from dash.dependencies import Input, Output\n",
    "import plotly.express as px\n",
    "import pandas as pd\n",
    "import numpy as np\n",
    "import glob\n",
    "from utils import get_region_and_field"
   ]
  },
  {
   "cell_type": "code",
   "execution_count": 17,
   "metadata": {},
   "outputs": [],
   "source": [
    "# comment if run on colab\n",
    "all_files = glob.glob('../WithLocation/location_*.csv')\n",
    "df_list = []\n",
    "for file in all_files:\n",
    "    df = pd.read_csv(file)\n",
    "    df_list.append(df)"
   ]
  },
  {
   "cell_type": "code",
   "execution_count": 18,
   "metadata": {},
   "outputs": [],
   "source": [
    "all_list = []\n",
    "\n",
    "for index in range(len(df_list)):\n",
    "\n",
    "    uni_list =  df_list[index]['University'].to_list()\n",
    "    field_list = df_list[index]['field'].to_list()\n",
    "    lat_list = df_list[index]['lat'].to_list()\n",
    "    lat_list = [0 if np.isnan(x) else x for x in lat_list]\n",
    "    lon_list = df_list[index]['lon'].to_list()\n",
    "    lon_list = [0 if np.isnan(x) else x for x in lon_list]\n",
    "    fac_list = df_list[index]['Faculty Count'].to_list()\n",
    "    fac_list = [0 if np.isnan(x) else x for x in fac_list]\n",
    "    pub_list = df_list[index]['Publication Count'].to_list()\n",
    "    pub_list = [0 if np.isnan(x) else x for x in pub_list]\n",
    "\n",
    "    # Sample data with latitude, longitude, faculty count, and publication count\n",
    "    data = {\n",
    "        'University': uni_list,\n",
    "        'Latitude': lat_list,\n",
    "        'Longitude': lon_list,\n",
    "        'FacultyCount': fac_list,\n",
    "        'PublicationCount': pub_list,\n",
    "        'Field': field_list\n",
    "    }\n",
    "\n",
    "    df = pd.DataFrame(data)\n",
    "    all_list.append(df)"
   ]
  },
  {
   "cell_type": "code",
   "execution_count": 19,
   "metadata": {},
   "outputs": [
    {
     "name": "stdout",
     "output_type": "stream",
     "text": [
      "12\n"
     ]
    }
   ],
   "source": [
    "print(len(df_list))"
   ]
  },
  {
   "cell_type": "markdown",
   "metadata": {},
   "source": [
    "### Call Dash"
   ]
  },
  {
   "cell_type": "code",
   "execution_count": 20,
   "metadata": {},
   "outputs": [
    {
     "data": {
      "text/html": [
       "\n",
       "        <iframe\n",
       "            width=\"100%\"\n",
       "            height=\"650\"\n",
       "            src=\"http://127.0.0.1:8051/\"\n",
       "            frameborder=\"0\"\n",
       "            allowfullscreen\n",
       "            \n",
       "        ></iframe>\n",
       "        "
      ],
      "text/plain": [
       "<IPython.lib.display.IFrame at 0x2f046cddb50>"
      ]
     },
     "metadata": {},
     "output_type": "display_data"
    }
   ],
   "source": [
    "# Dash app initialization\n",
    "app = dash.Dash(__name__)\n",
    "\n",
    "# Dash app layout\n",
    "app.layout = html.Div([\n",
    "    html.H1(\"World Map with Heat Maps for Faculty Count and Publication Count\"),\n",
    "\n",
    "    dcc.Dropdown(\n",
    "        id = 'field-dropdown',\n",
    "        options = [\n",
    "            {'label': 'All', 'value': 3},\n",
    "            {'label': 'Artificial Intelligence', 'value': 9},\n",
    "            {'label': 'Networks', 'value': 11},\n",
    "            {'label': 'Architecure', 'value': 2},\n",
    "            {'label': 'Database', 'value': 1},\n",
    "            {'label': 'HPC', 'value': 5},\n",
    "            {'label': 'Metrics', 'value': 0},\n",
    "            {'label': 'Operating System', 'value': 6},\n",
    "            {'label': 'Other', 'value': 7},\n",
    "            {'label': 'Programming Language', 'value': 4},\n",
    "            {'label': 'System', 'value': 8},\n",
    "            {'label': 'Theory', 'value': 10},\n",
    "        ],\n",
    "        value = 3,\n",
    "        style = {'width': '85%'}\n",
    "    ),\n",
    "    dcc.Graph(id='world-map'),\n",
    "])\n",
    "\n",
    "# Dash app callback to update the map based on the selected field\n",
    "@app.callback(\n",
    "    Output('world-map', 'figure'),\n",
    "    [Input('field-dropdown', 'value')]\n",
    ")\n",
    "def update_map(selected_field):\n",
    "\n",
    "    selected_df = all_list[selected_field]\n",
    "    field = selected_df['Field'][0]\n",
    "    selected_df.to_csv(\"tmp.csv\")\n",
    "    fig = px.scatter_geo(selected_df, \n",
    "                         lat='Latitude', \n",
    "                         lon='Longitude', \n",
    "                         text='University', \n",
    "                         size='FacultyCount', \n",
    "                         color='PublicationCount',\n",
    "                         title = 'World Map in {}'.format(field),\n",
    "                         labels={'FacultyCount': 'Faculty Count', 'PublicationCount': 'Publication Count'},\n",
    "                         hover_data=['FacultyCount', 'PublicationCount'],\n",
    "                         color_continuous_scale='Viridis',  # Adjust the color scale as needed\n",
    "                        #  projection=\"natural earth\",\n",
    "                         custom_data=['University', 'FacultyCount', 'PublicationCount']  # Specify the data to include in custom_data\n",
    "    )\n",
    "    \n",
    "    # Update the hovertemplate to exclude lat and lon\n",
    "    fig.update_traces(\n",
    "        hovertemplate='<br>'.join([\n",
    "            'University: %{customdata[0]}',\n",
    "            'Faculty Count: %{customdata[1]}',\n",
    "            'Publication Count: %{customdata[2]}'\n",
    "        ])\n",
    "    )\n",
    "    \n",
    "    fig.write_html(\"../images/region_analysis/world_map_{}.html\".format(field))\n",
    "\n",
    "\n",
    "    return fig\n",
    "\n",
    "# Run the Dash app\n",
    "if __name__ == '__main__':\n",
    "    app.run_server(debug=True, port = 8051)"
   ]
  }
 ],
 "metadata": {
  "kernelspec": {
   "display_name": "mathmodelling",
   "language": "python",
   "name": "python3"
  },
  "language_info": {
   "codemirror_mode": {
    "name": "ipython",
    "version": 3
   },
   "file_extension": ".py",
   "mimetype": "text/x-python",
   "name": "python",
   "nbconvert_exporter": "python",
   "pygments_lexer": "ipython3",
   "version": "3.8.16"
  }
 },
 "nbformat": 4,
 "nbformat_minor": 2
}
