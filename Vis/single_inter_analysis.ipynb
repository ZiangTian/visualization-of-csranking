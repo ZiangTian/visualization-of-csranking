{
 "cells": [
  {
   "cell_type": "code",
   "execution_count": 15,
   "metadata": {},
   "outputs": [],
   "source": [
    "import pandas as pd\n",
    "import numpy as np\n",
    "import matplotlib.pyplot as plt\n",
    "import seaborn as sns\n",
    "import os\n",
    "import glob\n",
    "import re\n",
    "import matplotlib.patches as mpatches\n",
    "\n",
    "from utils import make_unique\n",
    "from utils import get_region_and_field\n",
    "\n",
    "\n",
    "# Get all files\n",
    "all_files = glob.glob('..\\detailed\\Institutions_*_*.csv')\n",
    "\n",
    "# Add region and field columns\n",
    "df_list = []\n",
    "for file in all_files:\n",
    "    region, field = get_region_and_field(file)\n",
    "    # if region == 'ASI' or region == 'AUS':\n",
    "    df = pd.read_csv(file)\n",
    "    df['region'] = region\n",
    "    df['field'] = field\n",
    "    df_list.append(df)"
   ]
  },
  {
   "cell_type": "markdown",
   "metadata": {},
   "source": [
    "# xy_distribution"
   ]
  },
  {
   "cell_type": "code",
   "execution_count": null,
   "metadata": {},
   "outputs": [],
   "source": [
    "# draw a radar chart for each file\n",
    "import dash\n",
    "from dash import dcc, html\n",
    "from dash.dependencies import Input, Output\n",
    "import plotly.express as px\n",
    "import pandas as pd\n",
    "import numpy as np\n",
    "import glob\n",
    "from utils import get_region_and_field\n",
    "\n",
    "for df in df_list:\n",
    "\n",
    "    region = df['region'].iloc[0]\n",
    "    field = df['field'].iloc[0]\n",
    "\n",
    "    # Create a scatter plot\n",
    "    plt.figure(figsize=(10, 8))\n",
    "    sns.scatterplot(x='Publication Count', y='Faculty Count', hue='University', s=100, data=df, palette='Set2')\n",
    "\n",
    "    # Set the scale of the x and y axes\n",
    "    plt.xscale('log')\n",
    "    plt.yscale('log')\n",
    "\n",
    "    # Set the labels of the x and y axes\n",
    "    plt.xlabel('Publication Count')\n",
    "    plt.ylabel('Faculty Count')\n",
    "\n",
    "    # Set the title of the plot\n",
    "    plt.title('Faculty Count and Publication Count in field {} in region {}'.format(field, region))\n",
    "    plt.legend(bbox_to_anchor=(1.05, 1), loc=2, borderaxespad=0., ncol=2)\n",
    "\n",
    "    plt.savefig('../images/single_inter/xy_distribution/unis_in_{}_in_{}.svg'.format(region,field), dpi = 300)\n",
    "\n",
    "    plt.close()"
   ]
  },
  {
   "cell_type": "code",
   "execution_count": null,
   "metadata": {},
   "outputs": [],
   "source": []
  },
  {
   "cell_type": "markdown",
   "metadata": {},
   "source": [
    "# bubble chart"
   ]
  },
  {
   "cell_type": "code",
   "execution_count": null,
   "metadata": {},
   "outputs": [],
   "source": [
    "# draw a radar chart for each file\n",
    "import dash\n",
    "from dash import dcc, html\n",
    "from dash.dependencies import Input, Output\n",
    "import plotly.express as px\n",
    "import pandas as pd\n",
    "import numpy as np\n",
    "import glob\n",
    "from utils import get_region_and_field\n",
    "\n",
    "for df in df_list:\n",
    "    region = df['region'].iloc[0]\n",
    "    field = df['field'].iloc[0]\n",
    "    universities_name = df[\"University\"].tolist()\n",
    "    fac_cnt_list = df[\"Faculty Count\"].tolist()\n",
    "    pub_cnt_list = df[\"Publication Count\"].tolist()\n",
    "\n",
    "            \n",
    "    # Create a DataFrame from the aggregated data\n",
    "    df_data = pd.DataFrame({\n",
    "        'University': universities_name,\n",
    "        'FacCount': fac_cnt_list,\n",
    "        'PubCount': pub_cnt_list\n",
    "    })\n",
    "\n",
    "    fig = px.scatter(df_data, x='University', color='FacCount', size='PubCount',\n",
    "                    title='Universities of Field {} in the Region {}'.format(field, region), \n",
    "                    labels={'University': 'University', 'FacCount': 'FacCount', 'PubCount': 'PubCount'},\n",
    "                    color_continuous_scale='Viridis', template='plotly_dark')\n",
    "\n",
    "    fig.add_annotation(\n",
    "        text='Note: The size reflects publication count. The color reflects faculty count.',\n",
    "        xref='paper', yref='paper',\n",
    "        x=0, y=1.05,\n",
    "        showarrow=False,\n",
    "        font=dict(size=12, color='white')\n",
    "    )\n",
    "\n",
    "    # Show the plot\n",
    "    fig.show()\n",
    "    fig.write_html('../images/single_inter/bubble_chart/unis_in_{}_in_{}.html'.format(region,field))"
   ]
  },
  {
   "cell_type": "code",
   "execution_count": null,
   "metadata": {},
   "outputs": [],
   "source": []
  }
 ],
 "metadata": {
  "kernelspec": {
   "display_name": "mathmodelling",
   "language": "python",
   "name": "python3"
  },
  "language_info": {
   "codemirror_mode": {
    "name": "ipython",
    "version": 3
   },
   "file_extension": ".py",
   "mimetype": "text/x-python",
   "name": "python",
   "nbconvert_exporter": "python",
   "pygments_lexer": "ipython3",
   "version": "3.8.16"
  }
 },
 "nbformat": 4,
 "nbformat_minor": 2
}
